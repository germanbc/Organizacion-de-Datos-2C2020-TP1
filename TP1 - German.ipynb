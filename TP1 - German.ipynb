{
 "cells": [
  {
   "cell_type": "markdown",
   "metadata": {
    "id": "2U63fc1f4CCE"
   },
   "source": [
    "# TP 1"
   ]
  },
  {
   "cell_type": "code",
   "execution_count": 1,
   "metadata": {
    "collapsed": true,
    "executionInfo": {
     "elapsed": 2035,
     "status": "ok",
     "timestamp": 1603289364269,
     "user": {
      "displayName": "GERMAN BERNARDO BOBADILLA CATALAN",
      "photoUrl": "",
      "userId": "14005656012307870514"
     },
     "user_tz": 180
    },
    "id": "engqTbeHccL4"
   },
   "outputs": [],
   "source": [
    "import pandas as pd\n",
    "import numpy as np\n",
    "import seaborn as sns\n",
    "import matplotlib.pyplot as plt\n",
    "from itertools import cycle, islice\n",
    "import datetime as datetime\n",
    "import glob\n",
    "\n",
    "%matplotlib inline\n",
    "\n",
    "plt.style.use('default') # haciendo los graficos un poco mas bonitos en matplotlib\n",
    "#plt.rcParams['figure.figsize'] = (20, 10)\n",
    "\n",
    "sns.set(style=\"whitegrid\") # seteando tipo de grid en seaborn\n",
    "\n",
    "pd.options.display.float_format = '{:20,.2f}'.format # suprimimos la notacion cientifica en los outputs\n",
    "\n",
    "#import warnings\n",
    "#warnings.filterwarnings('ignore')\n",
    "\n",
    "plt.rcParams['figure.figsize'] = (15, 5)"
   ]
  },
  {
   "cell_type": "code",
   "execution_count": 3,
   "metadata": {
    "collapsed": true,
    "executionInfo": {
     "elapsed": 3276,
     "status": "ok",
     "timestamp": 1603289368427,
     "user": {
      "displayName": "GERMAN BERNARDO BOBADILLA CATALAN",
      "photoUrl": "",
      "userId": "14005656012307870514"
     },
     "user_tz": 180
    },
    "id": "SOvgBSrKbjdQ"
   },
   "outputs": [],
   "source": [
    "eci = pd.read_csv('Entrenamieto_ECI_2020.csv')"
   ]
  },
  {
   "cell_type": "markdown",
   "metadata": {},
   "source": [
    "# Preprocesamiento y limpieza de datos"
   ]
  },
  {
   "cell_type": "markdown",
   "metadata": {},
   "source": [
    "Completo los datos faltantes de 'Total_Taxable_Amount' con los de 'Total_Amount'"
   ]
  },
  {
   "cell_type": "code",
   "execution_count": 15,
   "metadata": {
    "collapsed": false
   },
   "outputs": [
    {
     "data": {
      "text/plain": [
       "997"
      ]
     },
     "execution_count": 15,
     "metadata": {},
     "output_type": "execute_result"
    }
   ],
   "source": [
    "len(eci['Total_Taxable_Amount'].loc[eci.Total_Taxable_Amount==0.00])"
   ]
  },
  {
   "cell_type": "code",
   "execution_count": 4,
   "metadata": {
    "collapsed": false
   },
   "outputs": [
    {
     "name": "stderr",
     "output_type": "stream",
     "text": [
      "/usr/local/lib/python3.7/dist-packages/pandas/core/indexing.py:205: SettingWithCopyWarning: \n",
      "A value is trying to be set on a copy of a slice from a DataFrame\n",
      "\n",
      "See the caveats in the documentation: http://pandas.pydata.org/pandas-docs/stable/user_guide/indexing.html#returning-a-view-versus-a-copy\n",
      "  self._setitem_with_indexer(indexer, value)\n"
     ]
    }
   ],
   "source": [
    "eci['Total_Taxable_Amount'].loc[eci.Total_Taxable_Amount==0.00] = eci.loc[eci.Total_Taxable_Amount==0.00]\\\n",
    "                                            .groupby(['Opportunity_Name'])['Total_Amount'].transform('sum')"
   ]
  },
  {
   "cell_type": "markdown",
   "metadata": {},
   "source": [
    "Vemos que van a quedar pocos valores que tienen 'Total_Taxable_Amount' y 'Total_Amount' en cero. Llegado el caso de estudio, se pueden ignorar"
   ]
  },
  {
   "cell_type": "code",
   "execution_count": 5,
   "metadata": {
    "collapsed": false
   },
   "outputs": [
    {
     "data": {
      "text/plain": [
       "97"
      ]
     },
     "execution_count": 5,
     "metadata": {},
     "output_type": "execute_result"
    }
   ],
   "source": [
    "len(eci['Total_Taxable_Amount'].loc[eci.Total_Taxable_Amount==0.00])"
   ]
  },
  {
   "cell_type": "code",
   "execution_count": 12,
   "metadata": {
    "collapsed": false
   },
   "outputs": [
    {
     "data": {
      "text/plain": [
       "0.00    38\n",
       "Name: Total_Amount, dtype: int64"
      ]
     },
     "execution_count": 12,
     "metadata": {},
     "output_type": "execute_result"
    }
   ],
   "source": [
    "eci.loc[eci.Total_Taxable_Amount==0.00]['Total_Amount'].value_counts()"
   ]
  },
  {
   "cell_type": "code",
   "execution_count": 13,
   "metadata": {
    "collapsed": false
   },
   "outputs": [
    {
     "data": {
      "text/plain": [
       "59"
      ]
     },
     "execution_count": 13,
     "metadata": {},
     "output_type": "execute_result"
    }
   ],
   "source": [
    "eci.loc[eci.Total_Taxable_Amount==0.00]['Total_Amount'].isnull().sum()"
   ]
  },
  {
   "cell_type": "markdown",
   "metadata": {},
   "source": [
    "Convierto Total_Amount y Total_Taxable_Amount a una sola moneda"
   ]
  },
  {
   "cell_type": "code",
   "execution_count": 6,
   "metadata": {
    "collapsed": true
   },
   "outputs": [],
   "source": [
    "#Para convertir todos los precios de Total_Amount de diferentes monedas a dolar, no voy a usar los precios del\n",
    "#mercado actual. Voy a utilizar la conversión que se usó en el dataset original en la columna ASP_(converted)"
   ]
  },
  {
   "cell_type": "code",
   "execution_count": 7,
   "metadata": {
    "collapsed": true
   },
   "outputs": [],
   "source": [
    "toEUR = eci[eci.ASP_Currency=='EUR'].head(1)[['ASP_(converted)']].iloc[0,0]/eci[eci.ASP_Currency=='EUR'].head(1)[['ASP']].iloc[0,0]\n",
    "toAUD = eci[eci.ASP_Currency=='AUD'].head(1)[['ASP_(converted)']].iloc[0,0]/eci[eci.ASP_Currency=='AUD'].head(1)[['ASP']].iloc[0,0]\n",
    "toGBP = eci[eci.ASP_Currency=='GBP'].head(1)[['ASP_(converted)']].iloc[0,0]/eci[eci.ASP_Currency=='GBP'].head(1)[['ASP']].iloc[0,0]\n",
    "toJPY = eci[['ASP_(converted)']].iloc[12,0]/eci[['ASP']].iloc[12,0]\n",
    "#En el head(1) de JPY justo habia un nan. Ese numero magico 12 corresponde a la primera fila de moneda JPY con un valor valido"
   ]
  },
  {
   "cell_type": "code",
   "execution_count": 8,
   "metadata": {
    "collapsed": true
   },
   "outputs": [],
   "source": [
    "#Lo siguiente es para comprobar que funciona bien"
   ]
  },
  {
   "cell_type": "code",
   "execution_count": 9,
   "metadata": {
    "collapsed": true
   },
   "outputs": [],
   "source": [
    "eci['ASP_(convertido)']=0.0\n",
    "eci['ASP_(convertido)'].loc[eci.ASP_Currency=='EUR'] = eci['ASP'].apply(lambda x: x*toEUR)\n",
    "eci['ASP_(convertido)'].loc[eci.ASP_Currency=='JPY'] = eci['ASP'].apply(lambda x: x*toJPY)\n",
    "eci['ASP_(convertido)'].loc[eci.ASP_Currency=='AUD'] = eci['ASP'].apply(lambda x: x*toAUD)\n",
    "eci['ASP_(convertido)'].loc[eci.ASP_Currency=='GBP'] = eci['ASP'].apply(lambda x: x*toGBP)\n",
    "eci['ASP_(convertido)'].loc[eci.ASP_Currency=='USD'] = eci['ASP'].apply(lambda x: x)"
   ]
  },
  {
   "cell_type": "code",
   "execution_count": 10,
   "metadata": {
    "collapsed": true
   },
   "outputs": [],
   "source": [
    "eciAux = eci.dropna(subset=['ASP_(converted)'])"
   ]
  },
  {
   "cell_type": "code",
   "execution_count": 11,
   "metadata": {
    "collapsed": false
   },
   "outputs": [
    {
     "name": "stdout",
     "output_type": "stream",
     "text": [
      "Coinciden todos en el subset:  True\n"
     ]
    }
   ],
   "source": [
    "print(\"Coinciden todos en el subset: \", all(abs(eciAux['ASP_(converted)']-eciAux['ASP_(convertido)']) < 0.01))"
   ]
  },
  {
   "cell_type": "code",
   "execution_count": 12,
   "metadata": {
    "collapsed": true
   },
   "outputs": [],
   "source": [
    "del eciAux\n",
    "eci.drop(columns='ASP_(convertido)',inplace=True)"
   ]
  },
  {
   "cell_type": "code",
   "execution_count": 13,
   "metadata": {
    "collapsed": true
   },
   "outputs": [],
   "source": [
    "#Ahora si hago la conversion\n",
    "eci['Total_Amount_(converted)']=0.0\n",
    "eci['Total_Amount_(converted)'].loc[eci['Total_Amount_Currency']=='EUR'] = eci['Total_Amount'].apply(lambda x: x*toEUR)\n",
    "eci['Total_Amount_(converted)'].loc[eci['Total_Amount_Currency']=='JPY'] = eci['Total_Amount'].apply(lambda x: x*toJPY)\n",
    "eci['Total_Amount_(converted)'].loc[eci['Total_Amount_Currency']=='AUD'] = eci['Total_Amount'].apply(lambda x: x*toAUD)\n",
    "eci['Total_Amount_(converted)'].loc[eci['Total_Amount_Currency']=='GBP'] = eci['Total_Amount'].apply(lambda x: x*toGBP)\n",
    "eci['Total_Amount_(converted)'].loc[eci['Total_Amount_Currency']=='USD'] = eci['Total_Amount'].apply(lambda x: x)\n",
    "\n",
    "eci['Total_Taxable_Amount_(converted)']=0.0\n",
    "eci['Total_Taxable_Amount_(converted)'].loc[eci['Total_Taxable_Amount_Currency']=='EUR'] = eci['Total_Taxable_Amount'].apply(lambda x: x*toEUR)\n",
    "eci['Total_Taxable_Amount_(converted)'].loc[eci['Total_Taxable_Amount_Currency']=='JPY'] = eci['Total_Taxable_Amount'].apply(lambda x: x*toJPY)\n",
    "eci['Total_Taxable_Amount_(converted)'].loc[eci['Total_Taxable_Amount_Currency']=='AUD'] = eci['Total_Taxable_Amount'].apply(lambda x: x*toAUD)\n",
    "eci['Total_Taxable_Amount_(converted)'].loc[eci['Total_Taxable_Amount_Currency']=='GBP'] = eci['Total_Taxable_Amount'].apply(lambda x: x*toGBP)\n",
    "eci['Total_Taxable_Amount_(converted)'].loc[eci['Total_Taxable_Amount_Currency']=='USD'] = eci['Total_Taxable_Amount'].apply(lambda x: x)"
   ]
  },
  {
   "cell_type": "code",
   "execution_count": 14,
   "metadata": {
    "colab": {
     "base_uri": "https://localhost:8080/",
     "height": 51
    },
    "collapsed": false,
    "executionInfo": {
     "elapsed": 1549,
     "status": "ok",
     "timestamp": 1603253080060,
     "user": {
      "displayName": "GERMAN BERNARDO BOBADILLA CATALAN",
      "photoUrl": "",
      "userId": "14005656012307870514"
     },
     "user_tz": 180
    },
    "id": "a_niEv4XTxKD",
    "outputId": "c798f358-a769-4baa-e693-c5f4c09f3735"
   },
   "outputs": [
    {
     "data": {
      "text/plain": [
       "NaT    16947\n",
       "Name: Actual_Delivery_Date, dtype: int64"
      ]
     },
     "execution_count": 14,
     "metadata": {},
     "output_type": "execute_result"
    }
   ],
   "source": [
    "#Columna inservible\n",
    "eci['Actual_Delivery_Date'].value_counts()"
   ]
  },
  {
   "cell_type": "code",
   "execution_count": 135,
   "metadata": {
    "collapsed": false
   },
   "outputs": [
    {
     "data": {
      "text/plain": [
       "NaT    16947\n",
       "Name: Last_Activity, dtype: int64"
      ]
     },
     "execution_count": 135,
     "metadata": {},
     "output_type": "execute_result"
    }
   ],
   "source": [
    "#Columna inservible\n",
    "eci['Last_Activity'].value_counts()"
   ]
  },
  {
   "cell_type": "code",
   "execution_count": 23,
   "metadata": {
    "collapsed": false
   },
   "outputs": [
    {
     "data": {
      "text/plain": [
       "0    16947\n",
       "Name: Submitted_for_Approval, dtype: int64"
      ]
     },
     "execution_count": 23,
     "metadata": {},
     "output_type": "execute_result"
    }
   ],
   "source": [
    "#Columna inservible (creo)\n",
    "eci['Submitted_for_Approval'].value_counts()"
   ]
  },
  {
   "cell_type": "code",
   "execution_count": 57,
   "metadata": {
    "collapsed": false
   },
   "outputs": [
    {
     "data": {
      "text/plain": [
       "Prod_Category_A_None    16947\n",
       "Name: Prod_Category_A, dtype: int64"
      ]
     },
     "execution_count": 57,
     "metadata": {},
     "output_type": "execute_result"
    }
   ],
   "source": [
    "#Columna inservible (creo)\n",
    "eci['Prod_Category_A'].value_counts()"
   ]
  },
  {
   "cell_type": "code",
   "execution_count": 156,
   "metadata": {
    "collapsed": false
   },
   "outputs": [
    {
     "data": {
      "text/plain": [
       "USD    16947\n",
       "Name: ASP_(converted)_Currency, dtype: int64"
      ]
     },
     "execution_count": 156,
     "metadata": {},
     "output_type": "execute_result"
    }
   ],
   "source": [
    "#Todo es en dolares\n",
    "eci['ASP_(converted)_Currency'].value_counts()"
   ]
  },
  {
   "cell_type": "code",
   "execution_count": 136,
   "metadata": {
    "collapsed": true
   },
   "outputs": [],
   "source": [
    "#Supongo que todas estas columnas se pueden eliminar"
   ]
  },
  {
   "cell_type": "markdown",
   "metadata": {},
   "source": [
    "COLUMNAS CON MUCHISIMOS VALORES NULOS (VER QUE HACER): Brand, Product_Type, Size, Product_Category_B, Price, Currency"
   ]
  },
  {
   "cell_type": "markdown",
   "metadata": {
    "id": "L9LhYFPuXmuA"
   },
   "source": [
    "# Preguntas"
   ]
  },
  {
   "cell_type": "code",
   "execution_count": 15,
   "metadata": {
    "collapsed": true,
    "executionInfo": {
     "elapsed": 2089,
     "status": "ok",
     "timestamp": 1603289373603,
     "user": {
      "displayName": "GERMAN BERNARDO BOBADILLA CATALAN",
      "photoUrl": "",
      "userId": "14005656012307870514"
     },
     "user_tz": 180
    },
    "id": "sTOyHaVldAu7"
   },
   "outputs": [],
   "source": [
    "eciOp = eci.drop_duplicates('Opportunity_ID')"
   ]
  },
  {
   "cell_type": "code",
   "execution_count": 16,
   "metadata": {
    "colab": {
     "base_uri": "https://localhost:8080/",
     "height": 204
    },
    "collapsed": false,
    "executionInfo": {
     "elapsed": 963,
     "status": "ok",
     "timestamp": 1603252269434,
     "user": {
      "displayName": "GERMAN BERNARDO BOBADILLA CATALAN",
      "photoUrl": "",
      "userId": "14005656012307870514"
     },
     "user_tz": 180
    },
    "id": "D4Zdp4JnblNC",
    "outputId": "f9b93b76-780d-4a02-8c60-f406a9dd64d2"
   },
   "outputs": [
    {
     "data": {
      "text/html": [
       "<div>\n",
       "<style scoped>\n",
       "    .dataframe tbody tr th:only-of-type {\n",
       "        vertical-align: middle;\n",
       "    }\n",
       "\n",
       "    .dataframe tbody tr th {\n",
       "        vertical-align: top;\n",
       "    }\n",
       "\n",
       "    .dataframe thead th {\n",
       "        text-align: right;\n",
       "    }\n",
       "</style>\n",
       "<table border=\"1\" class=\"dataframe\">\n",
       "  <thead>\n",
       "    <tr style=\"text-align: right;\">\n",
       "      <th></th>\n",
       "      <th>Stage</th>\n",
       "      <th>cantidad</th>\n",
       "    </tr>\n",
       "  </thead>\n",
       "  <tbody>\n",
       "    <tr>\n",
       "      <th>0</th>\n",
       "      <td>Closed Won</td>\n",
       "      <td>5072</td>\n",
       "    </tr>\n",
       "    <tr>\n",
       "      <th>1</th>\n",
       "      <td>Closed Lost</td>\n",
       "      <td>4719</td>\n",
       "    </tr>\n",
       "    <tr>\n",
       "      <th>2</th>\n",
       "      <td>Proposal</td>\n",
       "      <td>30</td>\n",
       "    </tr>\n",
       "    <tr>\n",
       "      <th>3</th>\n",
       "      <td>Negotiation</td>\n",
       "      <td>11</td>\n",
       "    </tr>\n",
       "    <tr>\n",
       "      <th>4</th>\n",
       "      <td>Qualification</td>\n",
       "      <td>9</td>\n",
       "    </tr>\n",
       "  </tbody>\n",
       "</table>\n",
       "</div>"
      ],
      "text/plain": [
       "           Stage  cantidad\n",
       "0     Closed Won      5072\n",
       "1    Closed Lost      4719\n",
       "2       Proposal        30\n",
       "3    Negotiation        11\n",
       "4  Qualification         9"
      ]
     },
     "execution_count": 16,
     "metadata": {},
     "output_type": "execute_result"
    }
   ],
   "source": [
    "stage = eciOp['Stage'].value_counts().to_frame().reset_index()\\\n",
    "                      .rename(columns={'index':'Stage','Stage':'cantidad'})\n",
    "stage"
   ]
  },
  {
   "cell_type": "code",
   "execution_count": 5,
   "metadata": {
    "colab": {
     "base_uri": "https://localhost:8080/",
     "height": 442
    },
    "collapsed": false,
    "executionInfo": {
     "elapsed": 1014,
     "status": "ok",
     "timestamp": 1603252274964,
     "user": {
      "displayName": "GERMAN BERNARDO BOBADILLA CATALAN",
      "photoUrl": "",
      "userId": "14005656012307870514"
     },
     "user_tz": 180
    },
    "id": "xlwKuC0zZUuz",
    "outputId": "d3a9539f-149e-49d8-8044-b7537048b3a1"
   },
   "outputs": [
    {
     "data": {
      "image/png": "[encoded data removed]",
      "text/plain": [
       "<Figure size 792x396 with 1 Axes>"
      ]
     },
     "metadata": {
      "needs_background": "light"
     },
     "output_type": "display_data"
    }
   ],
   "source": [
    "stage.plot(kind='bar', x='Stage', y='cantidad',\\\n",
    "                 width=0.7, figsize=(11,5.5), color='blue',\\\n",
    "                 edgecolor=\"skyblue\", linewidth=4, rot=50)\n",
    "g=plt.gca()\n",
    "g.set_title(\"¿Cuales son las cantidades de oportunidades por estados?\",\\\n",
    "            fontsize=20);\n",
    "g.set_xlabel(\"Stage\", fontsize=18);\n",
    "g.set_ylabel(\"Cantidad\", fontsize=18);"
   ]
  },
  {
   "cell_type": "code",
   "execution_count": 6,
   "metadata": {
    "colab": {
     "base_uri": "https://localhost:8080/",
     "height": 204
    },
    "collapsed": false,
    "executionInfo": {
     "elapsed": 982,
     "status": "ok",
     "timestamp": 1603252281906,
     "user": {
      "displayName": "GERMAN BERNARDO BOBADILLA CATALAN",
      "photoUrl": "",
      "userId": "14005656012307870514"
     },
     "user_tz": 180
    },
    "id": "tPXrE0j1bOn0",
    "outputId": "7100e88a-dcea-4a56-d8c5-a09bf2f5c55f"
   },
   "outputs": [
    {
     "data": {
      "text/html": [
       "<div>\n",
       "<style scoped>\n",
       "    .dataframe tbody tr th:only-of-type {\n",
       "        vertical-align: middle;\n",
       "    }\n",
       "\n",
       "    .dataframe tbody tr th {\n",
       "        vertical-align: top;\n",
       "    }\n",
       "\n",
       "    .dataframe thead th {\n",
       "        text-align: right;\n",
       "    }\n",
       "</style>\n",
       "<table border=\"1\" class=\"dataframe\">\n",
       "  <thead>\n",
       "    <tr style=\"text-align: right;\">\n",
       "      <th></th>\n",
       "      <th>Region</th>\n",
       "      <th>cantidad</th>\n",
       "    </tr>\n",
       "  </thead>\n",
       "  <tbody>\n",
       "    <tr>\n",
       "      <th>0</th>\n",
       "      <td>EMEA</td>\n",
       "      <td>3241</td>\n",
       "    </tr>\n",
       "    <tr>\n",
       "      <th>1</th>\n",
       "      <td>Americas</td>\n",
       "      <td>2459</td>\n",
       "    </tr>\n",
       "    <tr>\n",
       "      <th>2</th>\n",
       "      <td>APAC</td>\n",
       "      <td>2086</td>\n",
       "    </tr>\n",
       "    <tr>\n",
       "      <th>3</th>\n",
       "      <td>Japan</td>\n",
       "      <td>1906</td>\n",
       "    </tr>\n",
       "    <tr>\n",
       "      <th>4</th>\n",
       "      <td>Middle East</td>\n",
       "      <td>149</td>\n",
       "    </tr>\n",
       "  </tbody>\n",
       "</table>\n",
       "</div>"
      ],
      "text/plain": [
       "        Region  cantidad\n",
       "0         EMEA      3241\n",
       "1     Americas      2459\n",
       "2         APAC      2086\n",
       "3        Japan      1906\n",
       "4  Middle East       149"
      ]
     },
     "execution_count": 6,
     "metadata": {},
     "output_type": "execute_result"
    }
   ],
   "source": [
    "region = eciOp['Region'].value_counts().to_frame().reset_index()\\\n",
    "                        .rename(columns={'index':'Region','Region':'cantidad'})\n",
    "region"
   ]
  },
  {
   "cell_type": "code",
   "execution_count": 7,
   "metadata": {
    "colab": {
     "base_uri": "https://localhost:8080/",
     "height": 439
    },
    "collapsed": false,
    "executionInfo": {
     "elapsed": 1337,
     "status": "ok",
     "timestamp": 1603252284178,
     "user": {
      "displayName": "GERMAN BERNARDO BOBADILLA CATALAN",
      "photoUrl": "",
      "userId": "14005656012307870514"
     },
     "user_tz": 180
    },
    "id": "MvtKJIcqcR-V",
    "outputId": "b89c5ad0-0755-4bb3-b32b-12052ececbc1"
   },
   "outputs": [
    {
     "data": {
      "image/png": "[encoded data removed]",
      "text/plain": [
       "<Figure size 792x396 with 1 Axes>"
      ]
     },
     "metadata": {
      "needs_background": "light"
     },
     "output_type": "display_data"
    }
   ],
   "source": [
    "region.plot(kind='bar', x='Region', y='cantidad',\\\n",
    "                 width=0.7, figsize=(11,5.5), color='green',\\\n",
    "                 edgecolor=\"lightgreen\", linewidth=4, rot=50)\n",
    "g=plt.gca()\n",
    "g.set_title(\"¿De que región son las oportunidades?\",\\\n",
    "            fontsize=20);\n",
    "g.set_xlabel(\"Region\", fontsize=18);\n",
    "g.set_ylabel(\"Cantidad\", fontsize=18);"
   ]
  },
  {
   "cell_type": "code",
   "execution_count": 8,
   "metadata": {
    "colab": {
     "base_uri": "https://localhost:8080/",
     "height": 359
    },
    "collapsed": false,
    "executionInfo": {
     "elapsed": 931,
     "status": "ok",
     "timestamp": 1603252289936,
     "user": {
      "displayName": "GERMAN BERNARDO BOBADILLA CATALAN",
      "photoUrl": "",
      "userId": "14005656012307870514"
     },
     "user_tz": 180
    },
    "id": "faZykC7xcv0U",
    "outputId": "ad1d6ba8-3472-4168-9d56-7474da5506ed"
   },
   "outputs": [
    {
     "data": {
      "text/html": [
       "<div>\n",
       "<style scoped>\n",
       "    .dataframe tbody tr th:only-of-type {\n",
       "        vertical-align: middle;\n",
       "    }\n",
       "\n",
       "    .dataframe tbody tr th {\n",
       "        vertical-align: top;\n",
       "    }\n",
       "\n",
       "    .dataframe thead th {\n",
       "        text-align: right;\n",
       "    }\n",
       "</style>\n",
       "<table border=\"1\" class=\"dataframe\">\n",
       "  <thead>\n",
       "    <tr style=\"text-align: right;\">\n",
       "      <th></th>\n",
       "      <th>Territorio</th>\n",
       "      <th>cantidad</th>\n",
       "    </tr>\n",
       "  </thead>\n",
       "  <tbody>\n",
       "    <tr>\n",
       "      <th>1</th>\n",
       "      <td>Germany</td>\n",
       "      <td>1080</td>\n",
       "    </tr>\n",
       "    <tr>\n",
       "      <th>2</th>\n",
       "      <td>NW America</td>\n",
       "      <td>878</td>\n",
       "    </tr>\n",
       "    <tr>\n",
       "      <th>3</th>\n",
       "      <td>India</td>\n",
       "      <td>680</td>\n",
       "    </tr>\n",
       "    <tr>\n",
       "      <th>4</th>\n",
       "      <td>Japan</td>\n",
       "      <td>607</td>\n",
       "    </tr>\n",
       "    <tr>\n",
       "      <th>5</th>\n",
       "      <td>Australia</td>\n",
       "      <td>579</td>\n",
       "    </tr>\n",
       "    <tr>\n",
       "      <th>6</th>\n",
       "      <td>NE America</td>\n",
       "      <td>518</td>\n",
       "    </tr>\n",
       "    <tr>\n",
       "      <th>7</th>\n",
       "      <td>France</td>\n",
       "      <td>393</td>\n",
       "    </tr>\n",
       "    <tr>\n",
       "      <th>8</th>\n",
       "      <td>Netherlands</td>\n",
       "      <td>384</td>\n",
       "    </tr>\n",
       "    <tr>\n",
       "      <th>9</th>\n",
       "      <td>SE America</td>\n",
       "      <td>340</td>\n",
       "    </tr>\n",
       "    <tr>\n",
       "      <th>10</th>\n",
       "      <td>Singapore</td>\n",
       "      <td>293</td>\n",
       "    </tr>\n",
       "  </tbody>\n",
       "</table>\n",
       "</div>"
      ],
      "text/plain": [
       "     Territorio  cantidad\n",
       "1       Germany      1080\n",
       "2    NW America       878\n",
       "3         India       680\n",
       "4         Japan       607\n",
       "5     Australia       579\n",
       "6    NE America       518\n",
       "7        France       393\n",
       "8   Netherlands       384\n",
       "9    SE America       340\n",
       "10    Singapore       293"
      ]
     },
     "execution_count": 8,
     "metadata": {},
     "output_type": "execute_result"
    }
   ],
   "source": [
    "territory = eciOp['Territory'].value_counts().to_frame().reset_index()\\\n",
    "                              .rename(columns={'index':'Territorio','Territory':'cantidad'})\n",
    "territory = territory[territory['Territorio']!='None'].head(10)\n",
    "territory"
   ]
  },
  {
   "cell_type": "code",
   "execution_count": 9,
   "metadata": {
    "colab": {
     "base_uri": "https://localhost:8080/",
     "height": 441
    },
    "collapsed": false,
    "executionInfo": {
     "elapsed": 1197,
     "status": "ok",
     "timestamp": 1603252294177,
     "user": {
      "displayName": "GERMAN BERNARDO BOBADILLA CATALAN",
      "photoUrl": "",
      "userId": "14005656012307870514"
     },
     "user_tz": 180
    },
    "id": "coN4RsnveDiv",
    "outputId": "37bc8b79-d138-4634-ad65-5f2df871be91"
   },
   "outputs": [
    {
     "data": {
      "image/png": "[encoded data removed]",
      "text/plain": [
       "<Figure size 792x396 with 1 Axes>"
      ]
     },
     "metadata": {
      "needs_background": "light"
     },
     "output_type": "display_data"
    }
   ],
   "source": [
    "territory.plot(kind='bar', x='Territorio', y='cantidad',\\\n",
    "                 width=0.7, figsize=(11,5.5), color='green',\\\n",
    "                 edgecolor=\"lightgreen\", linewidth=4, rot=50)\n",
    "g=plt.gca()\n",
    "g.set_title(\"¿De que territorios son la mayoria de oportunidades? (top 10)\",\\\n",
    "            fontsize=20);\n",
    "g.set_xlabel(\"Territorio\", fontsize=18);\n",
    "g.set_ylabel(\"Cantidad\", fontsize=18);"
   ]
  },
  {
   "cell_type": "code",
   "execution_count": 35,
   "metadata": {
    "collapsed": false
   },
   "outputs": [
    {
     "data": {
      "text/html": [
       "<div>\n",
       "<style scoped>\n",
       "    .dataframe tbody tr th:only-of-type {\n",
       "        vertical-align: middle;\n",
       "    }\n",
       "\n",
       "    .dataframe tbody tr th {\n",
       "        vertical-align: top;\n",
       "    }\n",
       "\n",
       "    .dataframe thead th {\n",
       "        text-align: right;\n",
       "    }\n",
       "</style>\n",
       "<table border=\"1\" class=\"dataframe\">\n",
       "  <thead>\n",
       "    <tr style=\"text-align: right;\">\n",
       "      <th></th>\n",
       "      <th>Pais</th>\n",
       "      <th>cantidad</th>\n",
       "    </tr>\n",
       "  </thead>\n",
       "  <tbody>\n",
       "    <tr>\n",
       "      <th>0</th>\n",
       "      <td>United States</td>\n",
       "      <td>2350</td>\n",
       "    </tr>\n",
       "    <tr>\n",
       "      <th>1</th>\n",
       "      <td>Japan</td>\n",
       "      <td>1899</td>\n",
       "    </tr>\n",
       "    <tr>\n",
       "      <th>2</th>\n",
       "      <td>Germany</td>\n",
       "      <td>1308</td>\n",
       "    </tr>\n",
       "    <tr>\n",
       "      <th>3</th>\n",
       "      <td>India</td>\n",
       "      <td>560</td>\n",
       "    </tr>\n",
       "    <tr>\n",
       "      <th>4</th>\n",
       "      <td>Australia</td>\n",
       "      <td>559</td>\n",
       "    </tr>\n",
       "    <tr>\n",
       "      <th>...</th>\n",
       "      <td>...</td>\n",
       "      <td>...</td>\n",
       "    </tr>\n",
       "    <tr>\n",
       "      <th>75</th>\n",
       "      <td>Armenia</td>\n",
       "      <td>1</td>\n",
       "    </tr>\n",
       "    <tr>\n",
       "      <th>76</th>\n",
       "      <td>Liechtenstein</td>\n",
       "      <td>1</td>\n",
       "    </tr>\n",
       "    <tr>\n",
       "      <th>77</th>\n",
       "      <td>Slovakia</td>\n",
       "      <td>1</td>\n",
       "    </tr>\n",
       "    <tr>\n",
       "      <th>78</th>\n",
       "      <td>Oman</td>\n",
       "      <td>1</td>\n",
       "    </tr>\n",
       "    <tr>\n",
       "      <th>79</th>\n",
       "      <td>Chile</td>\n",
       "      <td>1</td>\n",
       "    </tr>\n",
       "  </tbody>\n",
       "</table>\n",
       "<p>80 rows × 2 columns</p>\n",
       "</div>"
      ],
      "text/plain": [
       "             Pais  cantidad\n",
       "0   United States      2350\n",
       "1           Japan      1899\n",
       "2         Germany      1308\n",
       "3           India       560\n",
       "4       Australia       559\n",
       "..            ...       ...\n",
       "75        Armenia         1\n",
       "76  Liechtenstein         1\n",
       "77       Slovakia         1\n",
       "78           Oman         1\n",
       "79          Chile         1\n",
       "\n",
       "[80 rows x 2 columns]"
      ]
     },
     "execution_count": 35,
     "metadata": {},
     "output_type": "execute_result"
    }
   ],
   "source": [
    "billingCountry = eciOp['Billing_Country'].value_counts().to_frame().reset_index()\\\n",
    "                                         .rename(columns={'index':'Pais','Billing_Country':'cantidad'})\n",
    "billingCountry "
   ]
  },
  {
   "cell_type": "code",
   "execution_count": 36,
   "metadata": {
    "collapsed": false
   },
   "outputs": [
    {
     "data": {
      "image/png": "[encoded data removed]",
      "text/plain": [
       "<Figure size 792x396 with 1 Axes>"
      ]
     },
     "metadata": {
      "needs_background": "light"
     },
     "output_type": "display_data"
    }
   ],
   "source": [
    "billingCountry.head(10).plot(kind='bar', x='Pais', y='cantidad',\\\n",
    "                 width=0.7, figsize=(11,5.5), color='green',\\\n",
    "                 edgecolor=\"lightgreen\", linewidth=4, rot=50)\n",
    "g=plt.gca()\n",
    "g.set_title(\"¿En que paises se emiten mas facturas? (top 10)\",\\\n",
    "            fontsize=20);\n",
    "g.set_xlabel(\"Pais\", fontsize=18);\n",
    "g.set_ylabel(\"Cantidad\", fontsize=18);"
   ]
  },
  {
   "cell_type": "code",
   "execution_count": 7,
   "metadata": {
    "colab": {
     "base_uri": "https://localhost:8080/",
     "height": 235
    },
    "collapsed": false,
    "executionInfo": {
     "elapsed": 1166,
     "status": "ok",
     "timestamp": 1603253034188,
     "user": {
      "displayName": "GERMAN BERNARDO BOBADILLA CATALAN",
      "photoUrl": "",
      "userId": "14005656012307870514"
     },
     "user_tz": 180
    },
    "id": "RA8HYi5XQcw0",
    "outputId": "1f6d470e-c52f-415f-9401-f85a9ea34f63"
   },
   "outputs": [
    {
     "name": "stderr",
     "output_type": "stream",
     "text": [
      "/home/german/.local/lib/python3.7/site-packages/ipykernel_launcher.py:1: SettingWithCopyWarning: \n",
      "A value is trying to be set on a copy of a slice from a DataFrame.\n",
      "Try using .loc[row_indexer,col_indexer] = value instead\n",
      "\n",
      "See the caveats in the documentation: http://pandas.pydata.org/pandas-docs/stable/user_guide/indexing.html#returning-a-view-versus-a-copy\n",
      "  \"\"\"Entry point for launching an IPython kernel.\n",
      "/home/german/.local/lib/python3.7/site-packages/ipykernel_launcher.py:2: SettingWithCopyWarning: \n",
      "A value is trying to be set on a copy of a slice from a DataFrame.\n",
      "Try using .loc[row_indexer,col_indexer] = value instead\n",
      "\n",
      "See the caveats in the documentation: http://pandas.pydata.org/pandas-docs/stable/user_guide/indexing.html#returning-a-view-versus-a-copy\n",
      "  \n"
     ]
    },
    {
     "data": {
      "text/html": [
       "<div>\n",
       "<style scoped>\n",
       "    .dataframe tbody tr th:only-of-type {\n",
       "        vertical-align: middle;\n",
       "    }\n",
       "\n",
       "    .dataframe tbody tr th {\n",
       "        vertical-align: top;\n",
       "    }\n",
       "\n",
       "    .dataframe thead th {\n",
       "        text-align: right;\n",
       "    }\n",
       "</style>\n",
       "<table border=\"1\" class=\"dataframe\">\n",
       "  <thead>\n",
       "    <tr style=\"text-align: right;\">\n",
       "      <th></th>\n",
       "      <th>Año</th>\n",
       "      <th>cantidad</th>\n",
       "    </tr>\n",
       "  </thead>\n",
       "  <tbody>\n",
       "    <tr>\n",
       "      <th>0</th>\n",
       "      <td>2013</td>\n",
       "      <td>2835</td>\n",
       "    </tr>\n",
       "    <tr>\n",
       "      <th>1</th>\n",
       "      <td>2014</td>\n",
       "      <td>885</td>\n",
       "    </tr>\n",
       "    <tr>\n",
       "      <th>2</th>\n",
       "      <td>2015</td>\n",
       "      <td>1898</td>\n",
       "    </tr>\n",
       "    <tr>\n",
       "      <th>3</th>\n",
       "      <td>2016</td>\n",
       "      <td>2137</td>\n",
       "    </tr>\n",
       "    <tr>\n",
       "      <th>4</th>\n",
       "      <td>2017</td>\n",
       "      <td>1526</td>\n",
       "    </tr>\n",
       "    <tr>\n",
       "      <th>5</th>\n",
       "      <td>2018</td>\n",
       "      <td>560</td>\n",
       "    </tr>\n",
       "  </tbody>\n",
       "</table>\n",
       "</div>"
      ],
      "text/plain": [
       "    Año  cantidad\n",
       "0  2013      2835\n",
       "1  2014       885\n",
       "2  2015      1898\n",
       "3  2016      2137\n",
       "4  2017      1526\n",
       "5  2018       560"
      ]
     },
     "execution_count": 7,
     "metadata": {},
     "output_type": "execute_result"
    }
   ],
   "source": [
    "eciOp['Account_Created_Date'] = pd.to_datetime(eciOp['Account_Created_Date'])\n",
    "eciOp['Account_Created_Year'] = eciOp['Account_Created_Date'].dt.year\n",
    "accountCreatedYear = eciOp.groupby('Account_Created_Year').agg({'ID':'count'}).reset_index().rename(columns={'ID':'cantidad','Account_Created_Year':'Año'})\n",
    "accountCreatedYear"
   ]
  },
  {
   "cell_type": "code",
   "execution_count": 8,
   "metadata": {
    "colab": {
     "base_uri": "https://localhost:8080/",
     "height": 392
    },
    "collapsed": false,
    "executionInfo": {
     "elapsed": 1777,
     "status": "ok",
     "timestamp": 1603253041155,
     "user": {
      "displayName": "GERMAN BERNARDO BOBADILLA CATALAN",
      "photoUrl": "",
      "userId": "14005656012307870514"
     },
     "user_tz": 180
    },
    "id": "aOLMP1t4yhOT",
    "outputId": "1f53f584-fd0d-41a0-c2d8-9da09a404f23"
   },
   "outputs": [
    {
     "data": {
      "image/png": "[encoded data removed]",
      "text/plain": [
       "<Figure size 792x396 with 1 Axes>"
      ]
     },
     "metadata": {
      "needs_background": "light"
     },
     "output_type": "display_data"
    }
   ],
   "source": [
    "accountCreatedYear.plot(kind='line', x='Año', y='cantidad',figsize=(11,5.5))\n",
    "g=plt.gca()\n",
    "g.set_title(\"¿En que año hubo mayor creacion de cuentas de clientes?\",\\\n",
    "            fontsize=20);\n",
    "g.set_xlabel(\"Año\", fontsize=18);\n",
    "g.set_ylabel(\"Cantidad\", fontsize=18);"
   ]
  },
  {
   "cell_type": "code",
   "execution_count": 9,
   "metadata": {
    "colab": {
     "base_uri": "https://localhost:8080/",
     "height": 235
    },
    "collapsed": false,
    "executionInfo": {
     "elapsed": 958,
     "status": "ok",
     "timestamp": 1603253049774,
     "user": {
      "displayName": "GERMAN BERNARDO BOBADILLA CATALAN",
      "photoUrl": "",
      "userId": "14005656012307870514"
     },
     "user_tz": 180
    },
    "id": "2IJkHzeQSvBc",
    "outputId": "5b78d4a5-b28a-49f4-909a-7fc33e5da4b5"
   },
   "outputs": [
    {
     "data": {
      "text/html": [
       "<div>\n",
       "<style scoped>\n",
       "    .dataframe tbody tr th:only-of-type {\n",
       "        vertical-align: middle;\n",
       "    }\n",
       "\n",
       "    .dataframe tbody tr th {\n",
       "        vertical-align: top;\n",
       "    }\n",
       "\n",
       "    .dataframe thead th {\n",
       "        text-align: right;\n",
       "    }\n",
       "</style>\n",
       "<table border=\"1\" class=\"dataframe\">\n",
       "  <thead>\n",
       "    <tr style=\"text-align: right;\">\n",
       "      <th></th>\n",
       "      <th>Año</th>\n",
       "      <th>cantidad</th>\n",
       "    </tr>\n",
       "  </thead>\n",
       "  <tbody>\n",
       "    <tr>\n",
       "      <th>0</th>\n",
       "      <td>2013</td>\n",
       "      <td>1</td>\n",
       "    </tr>\n",
       "    <tr>\n",
       "      <th>1</th>\n",
       "      <td>2014</td>\n",
       "      <td>40</td>\n",
       "    </tr>\n",
       "    <tr>\n",
       "      <th>2</th>\n",
       "      <td>2015</td>\n",
       "      <td>1012</td>\n",
       "    </tr>\n",
       "    <tr>\n",
       "      <th>3</th>\n",
       "      <td>2016</td>\n",
       "      <td>4355</td>\n",
       "    </tr>\n",
       "    <tr>\n",
       "      <th>4</th>\n",
       "      <td>2017</td>\n",
       "      <td>6921</td>\n",
       "    </tr>\n",
       "    <tr>\n",
       "      <th>5</th>\n",
       "      <td>2018</td>\n",
       "      <td>4618</td>\n",
       "    </tr>\n",
       "  </tbody>\n",
       "</table>\n",
       "</div>"
      ],
      "text/plain": [
       "    Año  cantidad\n",
       "0  2013         1\n",
       "1  2014        40\n",
       "2  2015      1012\n",
       "3  2016      4355\n",
       "4  2017      6921\n",
       "5  2018      4618"
      ]
     },
     "execution_count": 9,
     "metadata": {},
     "output_type": "execute_result"
    }
   ],
   "source": [
    "eci['Opportunity_Created_Date'] = pd.to_datetime(eci['Opportunity_Created_Date'])\n",
    "eci['Opportunity_Created_Year'] = eci['Opportunity_Created_Date'].dt.year\n",
    "opportunityCreatedYear = eci.groupby('Opportunity_Created_Year').agg({'ID':'count'}).reset_index().rename(columns={'ID':'cantidad','Opportunity_Created_Year':'Año'})\n",
    "opportunityCreatedYear"
   ]
  },
  {
   "cell_type": "code",
   "execution_count": 10,
   "metadata": {
    "colab": {
     "base_uri": "https://localhost:8080/",
     "height": 392
    },
    "collapsed": false,
    "executionInfo": {
     "elapsed": 1042,
     "status": "ok",
     "timestamp": 1603253051702,
     "user": {
      "displayName": "GERMAN BERNARDO BOBADILLA CATALAN",
      "photoUrl": "",
      "userId": "14005656012307870514"
     },
     "user_tz": 180
    },
    "id": "CczkLHlNThgZ",
    "outputId": "d46c362a-9ef1-4f24-fa0e-eb4aebcd4e42"
   },
   "outputs": [
    {
     "data": {
      "image/png": "[encoded data removed]",
      "text/plain": [
       "<Figure size 792x396 with 1 Axes>"
      ]
     },
     "metadata": {
      "needs_background": "light"
     },
     "output_type": "display_data"
    }
   ],
   "source": [
    "opportunityCreatedYear.plot(kind='line', x='Año', y='cantidad',figsize=(11,5.5))\n",
    "g=plt.gca()\n",
    "g.set_title(\"¿En que año hubo mayor creacion de oportunidades?\",\\\n",
    "            fontsize=20);\n",
    "g.set_xlabel(\"Año\", fontsize=18);\n",
    "g.set_ylabel(\"Cantidad\", fontsize=18);"
   ]
  },
  {
   "cell_type": "markdown",
   "metadata": {},
   "source": [
    "# Dudas para el grupo"
   ]
  },
  {
   "cell_type": "markdown",
   "metadata": {},
   "source": [
    "¿Que es Quote_Type? \n",
    "\n",
    "Creo que es cuando cierran el trato legalmente. Cuando dice \"Binding\" me suena a que hay algún contrato o algo para cumplir, el precio imagino, non binding, me suena a que es más de palabra pero si alguno se arrepiente antes no hay que pagar etc. Después hay otra columna que tiene la fecha de expiración de este contrato, si se pasa imagino que ya pasa a ser non binding o que lo acordado ya no vale más."
   ]
  },
  {
   "cell_type": "code",
   "execution_count": 116,
   "metadata": {
    "collapsed": false
   },
   "outputs": [
    {
     "data": {
      "text/plain": [
       "Non Binding    16777\n",
       "Binding          170\n",
       "Name: Quote_Type, dtype: int64"
      ]
     },
     "execution_count": 116,
     "metadata": {},
     "output_type": "execute_result"
    }
   ],
   "source": [
    "eci['Quote_Type'].value_counts()"
   ]
  },
  {
   "cell_type": "code",
   "execution_count": null,
   "metadata": {
    "collapsed": true
   },
   "outputs": [],
   "source": []
  }
 ],
 "metadata": {
  "colab": {
   "authorship_tag": "ABX9TyM7ENFhDZLqMywLxF9JtGvI",
   "collapsed_sections": [],
   "name": "Copia de finger.ipynb",
   "provenance": [],
   "toc_visible": true
  },
  "kernelspec": {
   "display_name": "Python 3",
   "language": "python",
   "name": "python3"
  },
  "language_info": {
   "codemirror_mode": {
    "name": "ipython",
    "version": 3
   },
   "file_extension": ".py",
   "mimetype": "text/x-python",
   "name": "python",
   "nbconvert_exporter": "python",
   "pygments_lexer": "ipython3",
   "version": "3.7.5"
  }
 },
 "nbformat": 4,
 "nbformat_minor": 1
}
