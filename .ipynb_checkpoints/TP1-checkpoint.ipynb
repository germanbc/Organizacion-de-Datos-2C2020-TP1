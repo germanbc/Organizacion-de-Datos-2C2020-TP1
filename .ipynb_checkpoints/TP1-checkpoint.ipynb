{
 "cells": [
  {
   "cell_type": "markdown",
   "metadata": {
    "id": "2U63fc1f4CCE"
   },
   "source": [
    "# TP 1"
   ]
  },
  {
   "cell_type": "code",
   "execution_count": 1,
   "metadata": {
    "executionInfo": {
     "elapsed": 2035,
     "status": "ok",
     "timestamp": 1603289364269,
     "user": {
      "displayName": "GERMAN BERNARDO BOBADILLA CATALAN",
      "photoUrl": "",
      "userId": "14005656012307870514"
     },
     "user_tz": 180
    },
    "id": "engqTbeHccL4"
   },
   "outputs": [
    {
     "ename": "ModuleNotFoundError",
     "evalue": "No module named 'pycountry'",
     "output_type": "error",
     "traceback": [
      "\u001b[0;31m---------------------------------------------------------------------------\u001b[0m",
      "\u001b[0;31mModuleNotFoundError\u001b[0m                       Traceback (most recent call last)",
      "\u001b[0;32m<ipython-input-1-10e5d144a19c>\u001b[0m in \u001b[0;36m<module>\u001b[0;34m\u001b[0m\n\u001b[1;32m      9\u001b[0m \u001b[0;32mfrom\u001b[0m \u001b[0mIPython\u001b[0m\u001b[0;34m.\u001b[0m\u001b[0mdisplay\u001b[0m \u001b[0;32mimport\u001b[0m \u001b[0mImage\u001b[0m\u001b[0;34m\u001b[0m\u001b[0;34m\u001b[0m\u001b[0m\n\u001b[1;32m     10\u001b[0m \u001b[0;32mimport\u001b[0m \u001b[0mplotly\u001b[0m\u001b[0;34m.\u001b[0m\u001b[0mexpress\u001b[0m \u001b[0;32mas\u001b[0m \u001b[0mpx\u001b[0m\u001b[0;34m\u001b[0m\u001b[0;34m\u001b[0m\u001b[0m\n\u001b[0;32m---> 11\u001b[0;31m \u001b[0;32mimport\u001b[0m \u001b[0mpycountry\u001b[0m\u001b[0;34m\u001b[0m\u001b[0;34m\u001b[0m\u001b[0m\n\u001b[0m\u001b[1;32m     12\u001b[0m \u001b[0;32mimport\u001b[0m \u001b[0mgeopandas\u001b[0m \u001b[0;32mas\u001b[0m \u001b[0mgpd\u001b[0m\u001b[0;34m\u001b[0m\u001b[0;34m\u001b[0m\u001b[0m\n\u001b[1;32m     13\u001b[0m \u001b[0;32mimport\u001b[0m \u001b[0mdifflib\u001b[0m\u001b[0;34m\u001b[0m\u001b[0;34m\u001b[0m\u001b[0m\n",
      "\u001b[0;31mModuleNotFoundError\u001b[0m: No module named 'pycountry'"
     ]
    }
   ],
   "source": [
    "import pandas as pd\n",
    "import numpy as np\n",
    "import seaborn as sns\n",
    "import matplotlib.pyplot as plt\n",
    "from itertools import cycle, islice\n",
    "import datetime as datetime\n",
    "import glob\n",
    "from matplotlib import pyplot\n",
    "from IPython.display import Image\n",
    "import plotly.express as px\n",
    "import pycountry\n",
    "import geopandas as gpd\n",
    "import difflib\n",
    "#import psutil\n",
    "\n",
    "%matplotlib inline\n",
    "\n",
    "plt.style.use('default') # haciendo los graficos un poco mas bonitos en matplotlib\n",
    "#plt.rcParams['figure.figsize'] = (20, 10)\n",
    "\n",
    "sns.set(style=\"whitegrid\") # seteando tipo de grid en seaborn\n",
    "\n",
    "pd.options.display.float_format = '{:20,.2f}'.format # suprimimos la notacion cientifica en los outputs\n",
    "\n",
    "plt.rcParams['figure.figsize'] = (15, 5)\n",
    "\n",
    "import warnings\n",
    "warnings.filterwarnings('ignore')"
   ]
  },
  {
   "cell_type": "code",
   "execution_count": null,
   "metadata": {
    "executionInfo": {
     "elapsed": 3276,
     "status": "ok",
     "timestamp": 1603289368427,
     "user": {
      "displayName": "GERMAN BERNARDO BOBADILLA CATALAN",
      "photoUrl": "",
      "userId": "14005656012307870514"
     },
     "user_tz": 180
    },
    "id": "SOvgBSrKbjdQ"
   },
   "outputs": [],
   "source": [
    "eci = pd.read_csv('Entrenamieto_ECI_2020.csv')"
   ]
  },
  {
   "cell_type": "markdown",
   "metadata": {},
   "source": [
    "# Preprocesamiento y limpieza de datos"
   ]
  },
  {
   "cell_type": "markdown",
   "metadata": {},
   "source": [
    "Completo los datos faltantes de 'Total_Taxable_Amount' con los de 'Total_Amount'"
   ]
  },
  {
   "cell_type": "code",
   "execution_count": null,
   "metadata": {},
   "outputs": [],
   "source": [
    "len(eci['Total_Taxable_Amount'].loc[eci.Total_Taxable_Amount==0.00])"
   ]
  },
  {
   "cell_type": "code",
   "execution_count": null,
   "metadata": {},
   "outputs": [],
   "source": [
    "eci['Total_Taxable_Amount'].loc[eci.Total_Taxable_Amount==0.00] = eci.loc[eci.Total_Taxable_Amount==0.00]\\\n",
    "                                            .groupby(['Opportunity_Name'])['Total_Amount'].transform('sum')"
   ]
  },
  {
   "cell_type": "markdown",
   "metadata": {},
   "source": [
    "Vemos que van a quedar pocos valores que tienen 'Total_Taxable_Amount' y 'Total_Amount' en cero. Llegado el caso de estudio, se pueden ignorar"
   ]
  },
  {
   "cell_type": "code",
   "execution_count": null,
   "metadata": {},
   "outputs": [],
   "source": [
    "len(eci['Total_Taxable_Amount'].loc[eci.Total_Taxable_Amount==0.00])"
   ]
  },
  {
   "cell_type": "code",
   "execution_count": null,
   "metadata": {},
   "outputs": [],
   "source": [
    "eci.loc[eci.Total_Taxable_Amount==0.00]['Total_Amount'].value_counts()"
   ]
  },
  {
   "cell_type": "code",
   "execution_count": null,
   "metadata": {},
   "outputs": [],
   "source": [
    "eci.loc[eci.Total_Taxable_Amount==0.00]['Total_Amount'].isnull().sum()"
   ]
  },
  {
   "cell_type": "markdown",
   "metadata": {},
   "source": [
    "Convierto Total_Amount y Total_Taxable_Amount a una sola moneda"
   ]
  },
  {
   "cell_type": "code",
   "execution_count": null,
   "metadata": {},
   "outputs": [],
   "source": [
    "#Para convertir todos los precios de Total_Amount de diferentes monedas a dolar, no voy a usar los precios del\n",
    "#mercado actual. Voy a utilizar la conversión que se usó en el dataset original en la columna ASP_(converted)"
   ]
  },
  {
   "cell_type": "code",
   "execution_count": null,
   "metadata": {},
   "outputs": [],
   "source": [
    "toEUR = eci[eci.ASP_Currency=='EUR'].head(1)[['ASP_(converted)']].iloc[0,0]/eci[eci.ASP_Currency=='EUR'].head(1)[['ASP']].iloc[0,0]\n",
    "toAUD = eci[eci.ASP_Currency=='AUD'].head(1)[['ASP_(converted)']].iloc[0,0]/eci[eci.ASP_Currency=='AUD'].head(1)[['ASP']].iloc[0,0]\n",
    "toGBP = eci[eci.ASP_Currency=='GBP'].head(1)[['ASP_(converted)']].iloc[0,0]/eci[eci.ASP_Currency=='GBP'].head(1)[['ASP']].iloc[0,0]\n",
    "toJPY = eci[['ASP_(converted)']].iloc[12,0]/eci[['ASP']].iloc[12,0]\n",
    "#En el head(1) de JPY justo habia un nan. Ese numero magico 12 corresponde a la primera fila de moneda JPY con un valor valido"
   ]
  },
  {
   "cell_type": "code",
   "execution_count": null,
   "metadata": {},
   "outputs": [],
   "source": [
    "#Lo siguiente es para comprobar que funciona bien"
   ]
  },
  {
   "cell_type": "code",
   "execution_count": null,
   "metadata": {},
   "outputs": [],
   "source": [
    "eci['ASP_(convertido)']=0.0\n",
    "eci['ASP_(convertido)'].loc[eci.ASP_Currency=='EUR'] = eci['ASP'].apply(lambda x: x*toEUR)\n",
    "eci['ASP_(convertido)'].loc[eci.ASP_Currency=='JPY'] = eci['ASP'].apply(lambda x: x*toJPY)\n",
    "eci['ASP_(convertido)'].loc[eci.ASP_Currency=='AUD'] = eci['ASP'].apply(lambda x: x*toAUD)\n",
    "eci['ASP_(convertido)'].loc[eci.ASP_Currency=='GBP'] = eci['ASP'].apply(lambda x: x*toGBP)\n",
    "eci['ASP_(convertido)'].loc[eci.ASP_Currency=='USD'] = eci['ASP'].apply(lambda x: x)"
   ]
  },
  {
   "cell_type": "code",
   "execution_count": null,
   "metadata": {},
   "outputs": [],
   "source": [
    "eciAux = eci.dropna(subset=['ASP_(converted)'])"
   ]
  },
  {
   "cell_type": "code",
   "execution_count": null,
   "metadata": {},
   "outputs": [],
   "source": [
    "print(\"Coinciden todos en el subset: \", all(abs(eciAux['ASP_(converted)']-eciAux['ASP_(convertido)']) < 0.01))"
   ]
  },
  {
   "cell_type": "code",
   "execution_count": null,
   "metadata": {},
   "outputs": [],
   "source": [
    "del eciAux\n",
    "eci.drop(columns='ASP_(convertido)',inplace=True)"
   ]
  },
  {
   "cell_type": "code",
   "execution_count": null,
   "metadata": {},
   "outputs": [],
   "source": [
    "#Ahora si hago la conversion\n",
    "eci['Total_Amount_(converted)']=0.0\n",
    "eci['Total_Amount_(converted)'].loc[eci['Total_Amount_Currency']=='EUR'] = eci['Total_Amount'].apply(lambda x: x*toEUR)\n",
    "eci['Total_Amount_(converted)'].loc[eci['Total_Amount_Currency']=='JPY'] = eci['Total_Amount'].apply(lambda x: x*toJPY)\n",
    "eci['Total_Amount_(converted)'].loc[eci['Total_Amount_Currency']=='AUD'] = eci['Total_Amount'].apply(lambda x: x*toAUD)\n",
    "eci['Total_Amount_(converted)'].loc[eci['Total_Amount_Currency']=='GBP'] = eci['Total_Amount'].apply(lambda x: x*toGBP)\n",
    "eci['Total_Amount_(converted)'].loc[eci['Total_Amount_Currency']=='USD'] = eci['Total_Amount'].apply(lambda x: x)\n",
    "\n",
    "eci['Total_Taxable_Amount_(converted)']=0.0\n",
    "eci['Total_Taxable_Amount_(converted)'].loc[eci['Total_Taxable_Amount_Currency']=='EUR'] = eci['Total_Taxable_Amount'].apply(lambda x: x*toEUR)\n",
    "eci['Total_Taxable_Amount_(converted)'].loc[eci['Total_Taxable_Amount_Currency']=='JPY'] = eci['Total_Taxable_Amount'].apply(lambda x: x*toJPY)\n",
    "eci['Total_Taxable_Amount_(converted)'].loc[eci['Total_Taxable_Amount_Currency']=='AUD'] = eci['Total_Taxable_Amount'].apply(lambda x: x*toAUD)\n",
    "eci['Total_Taxable_Amount_(converted)'].loc[eci['Total_Taxable_Amount_Currency']=='GBP'] = eci['Total_Taxable_Amount'].apply(lambda x: x*toGBP)\n",
    "eci['Total_Taxable_Amount_(converted)'].loc[eci['Total_Taxable_Amount_Currency']=='USD'] = eci['Total_Taxable_Amount'].apply(lambda x: x)"
   ]
  },
  {
   "cell_type": "code",
   "execution_count": null,
   "metadata": {},
   "outputs": [],
   "source": [
    "#Nuevas columnas que voy a usar después\n",
    "eci['Cantidad_de_Productos_por_Oportunidad'] = eci.groupby('Opportunity_ID')['ID'].transform('count')\n",
    "eci['TRF_totales'] = eci.groupby('Opportunity_ID')['TRF'].transform('sum')\n",
    "eci['TRF_promedioDeLaOportunidad'] = eci.groupby('Opportunity_ID')['TRF'].transform('mean')"
   ]
  },
  {
   "cell_type": "code",
   "execution_count": null,
   "metadata": {},
   "outputs": [],
   "source": [
    "eci['Planned_Delivery_End_Date']=pd.to_datetime(eci['Planned_Delivery_End_Date'])\n",
    "eci['Planned_Delivery_Start_Date']=pd.to_datetime(eci['Planned_Delivery_Start_Date'])"
   ]
  },
  {
   "cell_type": "code",
   "execution_count": null,
   "metadata": {
    "executionInfo": {
     "elapsed": 2089,
     "status": "ok",
     "timestamp": 1603289373603,
     "user": {
      "displayName": "GERMAN BERNARDO BOBADILLA CATALAN",
      "photoUrl": "",
      "userId": "14005656012307870514"
     },
     "user_tz": 180
    },
    "id": "sTOyHaVldAu7"
   },
   "outputs": [],
   "source": [
    "eciOp = eci.drop_duplicates('Opportunity_ID')"
   ]
  },
  {
   "cell_type": "code",
   "execution_count": null,
   "metadata": {},
   "outputs": [],
   "source": [
    "eciWon = eciOp[(eciOp.Stage=='Closed Won')|(eciOp.Stage=='Closed Lost')]\n",
    "eciWon['ganada'] = eciWon['Stage'].apply(lambda x: 1 if x=='Closed Won' else 0)"
   ]
  },
  {
   "cell_type": "code",
   "execution_count": null,
   "metadata": {
    "colab": {
     "base_uri": "https://localhost:8080/",
     "height": 51
    },
    "executionInfo": {
     "elapsed": 1549,
     "status": "ok",
     "timestamp": 1603253080060,
     "user": {
      "displayName": "GERMAN BERNARDO BOBADILLA CATALAN",
      "photoUrl": "",
      "userId": "14005656012307870514"
     },
     "user_tz": 180
    },
    "id": "a_niEv4XTxKD",
    "outputId": "c798f358-a769-4baa-e693-c5f4c09f3735"
   },
   "outputs": [],
   "source": [
    "#Columna inservible\n",
    "eci['Actual_Delivery_Date'].value_counts()"
   ]
  },
  {
   "cell_type": "code",
   "execution_count": null,
   "metadata": {},
   "outputs": [],
   "source": [
    "#Columna inservible\n",
    "eci['Last_Activity'].value_counts()"
   ]
  },
  {
   "cell_type": "code",
   "execution_count": null,
   "metadata": {},
   "outputs": [],
   "source": [
    "#Columna inservible\n",
    "eci['Submitted_for_Approval'].value_counts()"
   ]
  },
  {
   "cell_type": "code",
   "execution_count": null,
   "metadata": {},
   "outputs": [],
   "source": [
    "#Columna poco importante\n",
    "eci['Prod_Category_A'].value_counts()"
   ]
  },
  {
   "cell_type": "code",
   "execution_count": null,
   "metadata": {},
   "outputs": [],
   "source": [
    "#Todo es en dolares\n",
    "eci['ASP_(converted)_Currency'].value_counts()"
   ]
  },
  {
   "cell_type": "markdown",
   "metadata": {},
   "source": [
    "COLUMNAS CON MUCHISIMOS VALORES NULOS: Brand, Product_Type, Size, Product_Category_B, Price, Currency"
   ]
  },
  {
   "cell_type": "markdown",
   "metadata": {
    "id": "L9LhYFPuXmuA"
   },
   "source": [
    "# 3. Analisis general"
   ]
  },
  {
   "cell_type": "code",
   "execution_count": null,
   "metadata": {
    "colab": {
     "base_uri": "https://localhost:8080/",
     "height": 204
    },
    "executionInfo": {
     "elapsed": 982,
     "status": "ok",
     "timestamp": 1603252281906,
     "user": {
      "displayName": "GERMAN BERNARDO BOBADILLA CATALAN",
      "photoUrl": "",
      "userId": "14005656012307870514"
     },
     "user_tz": 180
    },
    "id": "tPXrE0j1bOn0",
    "outputId": "7100e88a-dcea-4a56-d8c5-a09bf2f5c55f"
   },
   "outputs": [],
   "source": [
    "region = eciOp['Region'].value_counts().to_frame().reset_index()\\\n",
    "                        .rename(columns={'index':'Region','Region':'cantidad'})\n",
    "region"
   ]
  },
  {
   "cell_type": "code",
   "execution_count": null,
   "metadata": {
    "colab": {
     "base_uri": "https://localhost:8080/",
     "height": 439
    },
    "executionInfo": {
     "elapsed": 1337,
     "status": "ok",
     "timestamp": 1603252284178,
     "user": {
      "displayName": "GERMAN BERNARDO BOBADILLA CATALAN",
      "photoUrl": "",
      "userId": "14005656012307870514"
     },
     "user_tz": 180
    },
    "id": "MvtKJIcqcR-V",
    "outputId": "b89c5ad0-0755-4bb3-b32b-12052ececbc1"
   },
   "outputs": [],
   "source": [
    "region.plot(kind='bar', x='Region', y='cantidad',\\\n",
    "                 width=0.7, figsize=(11,5.5), color='green',\\\n",
    "                 edgecolor=\"lightgreen\", linewidth=4, rot=50)\n",
    "g=plt.gca()\n",
    "g.set_title(\"¿De que región son las oportunidades?\",\\\n",
    "            fontsize=20);\n",
    "g.set_xlabel(\"Region\", fontsize=18);\n",
    "g.set_ylabel(\"Cantidad\", fontsize=18);"
   ]
  },
  {
   "cell_type": "markdown",
   "metadata": {},
   "source": [
    "---------------------------------------------------"
   ]
  },
  {
   "cell_type": "code",
   "execution_count": null,
   "metadata": {
    "colab": {
     "base_uri": "https://localhost:8080/",
     "height": 359
    },
    "executionInfo": {
     "elapsed": 931,
     "status": "ok",
     "timestamp": 1603252289936,
     "user": {
      "displayName": "GERMAN BERNARDO BOBADILLA CATALAN",
      "photoUrl": "",
      "userId": "14005656012307870514"
     },
     "user_tz": 180
    },
    "id": "faZykC7xcv0U",
    "outputId": "ad1d6ba8-3472-4168-9d56-7474da5506ed"
   },
   "outputs": [],
   "source": [
    "territory = eciOp['Territory'].value_counts().to_frame().reset_index()\\\n",
    "                              .rename(columns={'index':'Territorio','Territory':'Cantidad'})\n",
    "territory = territory[territory['Territorio']!='None']\n",
    "territory"
   ]
  },
  {
   "cell_type": "code",
   "execution_count": null,
   "metadata": {},
   "outputs": [],
   "source": [
    "def cambiar_nombre(nombre):\n",
    "    switcher = {\n",
    "        'China (PRC)': 'China',\n",
    "        'South Korea': 'Korea, Republic of',\n",
    "        'KSA': 'Saudi Arabia',\n",
    "        'Vietnam': 'Viet Nam',\n",
    "        'Taiwan': 'Taiwan, Province of China',\n",
    "        'UAE (Dubai)': 'United Arab Emirates',\n",
    "        'NW America': 'United States',\n",
    "        'Central US': 'United States',\n",
    "        'SE America': 'United States',\n",
    "        'NE America': 'United States',\n",
    "        'SW America': 'United States',\n",
    "        'Macedonia': 'North Macedonia',\n",
    "        'Bosnia & Herzegovina': 'Bosnia and Herzegovina',\n",
    "        'Czech Republic': 'Czechia',\n",
    "        'Burma': 'Myanmar',\n",
    "        'Palestine': 'Palestine, State of',\n",
    "        'Macedonia, the former Yugoslav Republic of': 'North Macedonia'\n",
    "    }\n",
    "    return switcher.get(nombre,nombre)"
   ]
  },
  {
   "cell_type": "code",
   "execution_count": null,
   "metadata": {},
   "outputs": [],
   "source": [
    "territory['Territorio'] = territory['Territorio'].apply(lambda x: cambiar_nombre(x))"
   ]
  },
  {
   "cell_type": "code",
   "execution_count": null,
   "metadata": {},
   "outputs": [],
   "source": [
    "def get_alpha_3(location):\n",
    "    try:\n",
    "        return pycountry.countries.get(name=location).alpha_3\n",
    "    except:\n",
    "        return 'Desconocido'"
   ]
  },
  {
   "cell_type": "code",
   "execution_count": null,
   "metadata": {},
   "outputs": [],
   "source": [
    "territory['Code'] = territory['Territorio'].apply(lambda x: get_alpha_3(x))"
   ]
  },
  {
   "cell_type": "code",
   "execution_count": null,
   "metadata": {},
   "outputs": [],
   "source": [
    "fig = px.choropleth(territory,locations='Code',color='Cantidad',\\\n",
    "                    color_continuous_scale=px.colors.sequential.RdPu,hover_name='Territorio',)\n",
    "fig.update_layout(\n",
    "    title_text = '¿De que territorios son la mayoria de oportunidades?'\n",
    ")\n",
    "fig.update_geos(projection_type=\"natural earth\")\n",
    "#fig.show()\n",
    "fig.write_image(\"territorio.png\",width=1366,height= 768)\n",
    "Image(\"territorio.png\")"
   ]
  },
  {
   "cell_type": "markdown",
   "metadata": {},
   "source": [
    "--------"
   ]
  },
  {
   "cell_type": "code",
   "execution_count": null,
   "metadata": {},
   "outputs": [],
   "source": [
    "billingCountry = eciOp['Billing_Country'].value_counts().to_frame().reset_index()\\\n",
    "                                         .rename(columns={'index':'Pais','Billing_Country':'Cantidad'})\n",
    "billingCountry "
   ]
  },
  {
   "cell_type": "code",
   "execution_count": null,
   "metadata": {},
   "outputs": [],
   "source": [
    "billingCountry ['Pais'] = billingCountry ['Pais'].apply(lambda x: cambiar_nombre(x))\n",
    "billingCountry['Code'] = billingCountry['Pais'].apply(lambda x: get_alpha_3(x))"
   ]
  },
  {
   "cell_type": "code",
   "execution_count": null,
   "metadata": {},
   "outputs": [],
   "source": [
    "fig = px.choropleth(billingCountry,locations='Code',color='Cantidad',\\\n",
    "                    color_continuous_scale=px.colors.sequential.Oryel,hover_name='Pais',)\n",
    "fig.update_layout(\n",
    "    title_text = '¿En que paises se emiten mas facturas?'\n",
    ")\n",
    "fig.update_geos(projection_type=\"natural earth\")\n",
    "#fig.show()\n",
    "fig.write_image(\"billing.png\",width=1366,height= 768)\n",
    "Image(\"billing.png\")"
   ]
  },
  {
   "cell_type": "markdown",
   "metadata": {},
   "source": [
    "-------------"
   ]
  },
  {
   "cell_type": "code",
   "execution_count": null,
   "metadata": {
    "colab": {
     "base_uri": "https://localhost:8080/",
     "height": 235
    },
    "executionInfo": {
     "elapsed": 1166,
     "status": "ok",
     "timestamp": 1603253034188,
     "user": {
      "displayName": "GERMAN BERNARDO BOBADILLA CATALAN",
      "photoUrl": "",
      "userId": "14005656012307870514"
     },
     "user_tz": 180
    },
    "id": "RA8HYi5XQcw0",
    "outputId": "1f6d470e-c52f-415f-9401-f85a9ea34f63"
   },
   "outputs": [],
   "source": [
    "eciOp['Account_Created_Date'] = pd.to_datetime(eciOp['Account_Created_Date'])\n",
    "eciOp['Account_Created_Year'] = eciOp['Account_Created_Date'].dt.year\n",
    "accountCreatedYear = eciOp.groupby('Account_Created_Year').agg({'ID':'count'}).reset_index().rename(columns={'ID':'cantidad','Account_Created_Year':'Año'})\n",
    "accountCreatedYear"
   ]
  },
  {
   "cell_type": "code",
   "execution_count": null,
   "metadata": {
    "colab": {
     "base_uri": "https://localhost:8080/",
     "height": 392
    },
    "executionInfo": {
     "elapsed": 1777,
     "status": "ok",
     "timestamp": 1603253041155,
     "user": {
      "displayName": "GERMAN BERNARDO BOBADILLA CATALAN",
      "photoUrl": "",
      "userId": "14005656012307870514"
     },
     "user_tz": 180
    },
    "id": "aOLMP1t4yhOT",
    "outputId": "1f53f584-fd0d-41a0-c2d8-9da09a404f23"
   },
   "outputs": [],
   "source": [
    "accountCreatedYear.plot(kind='line', x='Año', y='cantidad',figsize=(11,5.5))\n",
    "g=plt.gca()\n",
    "g.set_title(\"¿En que año hubo mayor creacion de cuentas de clientes?\",\\\n",
    "            fontsize=20);\n",
    "g.set_xlabel(\"Año\", fontsize=18);\n",
    "g.set_ylabel(\"Cantidad\", fontsize=18);"
   ]
  },
  {
   "cell_type": "markdown",
   "metadata": {},
   "source": [
    "------------"
   ]
  },
  {
   "cell_type": "code",
   "execution_count": null,
   "metadata": {
    "colab": {
     "base_uri": "https://localhost:8080/",
     "height": 235
    },
    "executionInfo": {
     "elapsed": 958,
     "status": "ok",
     "timestamp": 1603253049774,
     "user": {
      "displayName": "GERMAN BERNARDO BOBADILLA CATALAN",
      "photoUrl": "",
      "userId": "14005656012307870514"
     },
     "user_tz": 180
    },
    "id": "2IJkHzeQSvBc",
    "outputId": "5b78d4a5-b28a-49f4-909a-7fc33e5da4b5"
   },
   "outputs": [],
   "source": [
    "eci['Opportunity_Created_Date'] = pd.to_datetime(eci['Opportunity_Created_Date'])\n",
    "eci['Opportunity_Created_Year'] = eci['Opportunity_Created_Date'].dt.year\n",
    "opportunityCreatedYear = eci.groupby('Opportunity_Created_Year').agg({'ID':'count'}).reset_index().rename(columns={'ID':'cantidad','Opportunity_Created_Year':'Año'})\n",
    "opportunityCreatedYear"
   ]
  },
  {
   "cell_type": "code",
   "execution_count": null,
   "metadata": {
    "colab": {
     "base_uri": "https://localhost:8080/",
     "height": 392
    },
    "executionInfo": {
     "elapsed": 1042,
     "status": "ok",
     "timestamp": 1603253051702,
     "user": {
      "displayName": "GERMAN BERNARDO BOBADILLA CATALAN",
      "photoUrl": "",
      "userId": "14005656012307870514"
     },
     "user_tz": 180
    },
    "id": "CczkLHlNThgZ",
    "outputId": "d46c362a-9ef1-4f24-fa0e-eb4aebcd4e42"
   },
   "outputs": [],
   "source": [
    "opportunityCreatedYear.plot(kind='line', x='Año', y='cantidad',figsize=(11,5.5))\n",
    "g=plt.gca()\n",
    "g.set_title(\"¿En que año hubo mayor creacion de oportunidades?\",\\\n",
    "            fontsize=20);\n",
    "g.set_xlabel(\"Año\", fontsize=18);\n",
    "g.set_ylabel(\"Cantidad\", fontsize=18);"
   ]
  },
  {
   "cell_type": "markdown",
   "metadata": {},
   "source": [
    "---"
   ]
  },
  {
   "cell_type": "code",
   "execution_count": null,
   "metadata": {},
   "outputs": [],
   "source": [
    "# number of variable\n",
    "categories = list(eciOp.groupby('Delivery_Year').count().index)\n",
    "#categories = [2016,2017,2018,2019,2020]\n",
    "print(categories)"
   ]
  },
  {
   "cell_type": "code",
   "execution_count": null,
   "metadata": {},
   "outputs": [],
   "source": [
    "# number of variable\n",
    "N = len(categories)\n",
    "    \n",
    "    \n",
    "from math import pi\n",
    "angles = [n / float(N) * 2 * pi for n in range(N)]\n",
    "angles += angles[:1]\n",
    "\n",
    "# Initialise the spider plot\n",
    "ax = plt.subplot(111, polar=True)\n",
    " \n",
    "# If you want the first axis to be on top:\n",
    "ax.set_theta_offset(pi / 2)\n",
    "ax.set_theta_direction(-1)\n",
    " \n",
    "# Draw one axe per variable + add labels labels yet\n",
    "plt.xticks(angles[:-1], categories)\n",
    "\n",
    "\n",
    "# Draw ylabels\n",
    "ax.set_rlabel_position(0)\n",
    "plt.yticks([3800,3300,2000, 100], [\"3800\",\"3300\",\"2000\",\"100\",\"5000\"], color=\"grey\", size=10)\n",
    "plt.ylim(0,5000)\n",
    "\n",
    "values2 = list(eciOp.groupby('Delivery_Year')['Opportunity_ID'].count())\n",
    "values2 += values2[:1]\n",
    "\n",
    "ax.plot(angles, values2, linewidth=1, linestyle='solid', label=\"Cantidad de Oportunidades por Año planeado de entrega\")\n",
    "ax.fill(angles, values2, 'b', alpha=0.1)\n",
    "\n",
    "\n",
    "plt.legend(loc='upper right', bbox_to_anchor=(0.1, 0.1))"
   ]
  },
  {
   "cell_type": "markdown",
   "metadata": {},
   "source": [
    "---"
   ]
  },
  {
   "cell_type": "code",
   "execution_count": null,
   "metadata": {},
   "outputs": [],
   "source": [
    "opportunities = eciOp\n",
    "opportunities['Planned_Delivery_End_Date'].fillna(np.NaN).dropna()"
   ]
  },
  {
   "cell_type": "code",
   "execution_count": null,
   "metadata": {},
   "outputs": [],
   "source": [
    "opportunities['Planned_Delivery_End_Date_Month'] = opportunities['Planned_Delivery_End_Date'].dt.month"
   ]
  },
  {
   "cell_type": "code",
   "execution_count": null,
   "metadata": {},
   "outputs": [],
   "source": [
    "opportunities['Planned_Delivery_End_Date_Month'] = opportunities['Planned_Delivery_End_Date_Month'].astype('Int64')"
   ]
  },
  {
   "cell_type": "code",
   "execution_count": null,
   "metadata": {},
   "outputs": [],
   "source": [
    "opportunities['Planned_Delivery_Start_Date_Month'] = opportunities['Planned_Delivery_Start_Date'].dt.month"
   ]
  },
  {
   "cell_type": "code",
   "execution_count": null,
   "metadata": {},
   "outputs": [],
   "source": [
    "opportunities['Planned_Delivery_Start_Date_Month'] = opportunities['Planned_Delivery_Start_Date_Month'].astype('Int64')"
   ]
  },
  {
   "cell_type": "code",
   "execution_count": null,
   "metadata": {},
   "outputs": [],
   "source": [
    "opportunities['Planned_Delivery_Start_Date_Month']"
   ]
  },
  {
   "cell_type": "code",
   "execution_count": null,
   "metadata": {},
   "outputs": [],
   "source": [
    "# number of variable\n",
    "categories = list(opportunities.groupby('Planned_Delivery_Start_Date_Month').count().index)\n",
    "print(categories)"
   ]
  },
  {
   "cell_type": "code",
   "execution_count": null,
   "metadata": {},
   "outputs": [],
   "source": [
    "#number of variable\n",
    "N = len(categories)\n",
    "    \n",
    "from math import pi\n",
    "angles = [n / float(N) * 2 * pi for n in range(N)]\n",
    "angles += angles[:1]\n",
    "\n",
    "# Initialise the spider plot\n",
    "ax = plt.subplot(111, polar=True)\n",
    " \n",
    "# If you want the first axis to be on top:\n",
    "ax.set_theta_offset(pi / 2)\n",
    "ax.set_theta_direction(-1)\n",
    " \n",
    "# Draw one axe per variable + add labels labels yet\n",
    "plt.xticks(angles[:-1], categories)\n",
    "\n",
    "\n",
    "# Draw ylabels\n",
    "ax.set_rlabel_position(0)\n",
    "plt.yticks([1100,1000,800, 700, 500], [\"1100\",\"1000\",\"800\",\"700\",\"500\",\"1200\"], color=\"grey\", size=10)\n",
    "plt.ylim(0,1200)\n",
    "\n",
    "values2 = list(opportunities.groupby('Planned_Delivery_Start_Date_Month')['Opportunity_ID'].count())\n",
    "values2 += values2[:1]\n",
    "ax.plot(angles, values2, linewidth=1, linestyle='solid', label=\"Cantidad Oportunidades según Mes Inicial (Mínimo) de Entrega\")\n",
    "ax.fill(angles, values2, 'b', alpha=0.1)\n",
    "\n",
    "\n",
    "\n",
    "    \n",
    "values = list(opportunities.groupby('Planned_Delivery_Start_Date_Month')['Opportunity_ID'].count())\n",
    "values += values[:1]\n",
    "ax.plot(angles, values, linewidth=1, linestyle='solid',color = \"C2\", label=\"Cantidad Oportunidades según Mes Final (Máximo) de Entrega\")\n",
    "ax.fill(angles, values, 'r', alpha=0.1)\n",
    "\n",
    "\n",
    "\n",
    "plt.legend(loc='upper right', bbox_to_anchor=(0.1, 0.1))"
   ]
  },
  {
   "cell_type": "markdown",
   "metadata": {},
   "source": [
    "--------------"
   ]
  },
  {
   "cell_type": "code",
   "execution_count": null,
   "metadata": {},
   "outputs": [],
   "source": [
    "#Duracion de las oportunidades\n",
    "df_duracion = eci[['Opportunity_ID','Opportunity_Name','Planned_Delivery_Start_Date','Planned_Delivery_End_Date','Delivery_Quarter','Total_Amount','Territory','Stage']]\n",
    "df_duracion.loc[df_duracion['Opportunity_ID'] == 12801]"
   ]
  },
  {
   "cell_type": "code",
   "execution_count": null,
   "metadata": {},
   "outputs": [],
   "source": [
    "#para la misma id_opportunity se ven diferentes fechas de comienzo y fin, \n",
    "#agrupo por id y me quedo con la fecha de comienzo mas chica y de fin mas grande como para calcular de la oportundad entera...\n",
    "df_duracion_grouped = df_duracion.groupby('Opportunity_ID')\\\n",
    "    .agg({'Planned_Delivery_Start_Date':'min', 'Planned_Delivery_End_Date': 'max','Total_Amount':'sum', 'Territory':'first'})\\\n",
    "    .reset_index()\n",
    "df_duracion_grouped.head(3)"
   ]
  },
  {
   "cell_type": "code",
   "execution_count": null,
   "metadata": {},
   "outputs": [],
   "source": [
    "#calculo la duracion del proyecto en dias\n",
    "df_duracion_grouped['Opportunity_duration'] = df_duracion_grouped['Planned_Delivery_End_Date'] - df_duracion_grouped['Planned_Delivery_Start_Date']\n",
    "#agrego la duracion en meses y redondeo hacia arriba\n",
    "df_duracion_grouped['Opportunity_duration_months'] = ((df_duracion_grouped['Planned_Delivery_End_Date'] - df_duracion_grouped['Planned_Delivery_Start_Date'])/np.timedelta64(1, 'M'))\n",
    "df_duracion_grouped['Opportunity_duration_months'] = np.ceil(df_duracion_grouped['Opportunity_duration_months'])\n",
    "#los diez proyectos de ventas mas largos\n",
    "df_duracion_grouped.nlargest(10,'Opportunity_duration')"
   ]
  },
  {
   "cell_type": "code",
   "execution_count": null,
   "metadata": {},
   "outputs": [],
   "source": [
    "#se ve que la fecha de esta oportunidad no tiene sentido... elimino este registro\n",
    "indexNames = df_duracion_grouped[df_duracion_grouped['Opportunity_ID'] == 9773].index\n",
    "df_duracion_grouped.drop(indexNames , inplace=True)"
   ]
  },
  {
   "cell_type": "code",
   "execution_count": null,
   "metadata": {},
   "outputs": [],
   "source": [
    "df_duracion_grouped['Opportunity_duration_months'].value_counts()\\\n",
    "    .plot.bar(colormap='Pastel1', title='Cantidad de oportunidades y su duracion en meses',figsize=(10,8))\n",
    "\n",
    "plt.ylabel('Cantidad')\n",
    "plt.xlabel('Duracion en meses')\n",
    "\n",
    "plt.show()"
   ]
  },
  {
   "cell_type": "markdown",
   "metadata": {},
   "source": [
    "---"
   ]
  },
  {
   "cell_type": "code",
   "execution_count": null,
   "metadata": {
    "colab": {
     "base_uri": "https://localhost:8080/",
     "height": 204
    },
    "executionInfo": {
     "elapsed": 963,
     "status": "ok",
     "timestamp": 1603252269434,
     "user": {
      "displayName": "GERMAN BERNARDO BOBADILLA CATALAN",
      "photoUrl": "",
      "userId": "14005656012307870514"
     },
     "user_tz": 180
    },
    "id": "D4Zdp4JnblNC",
    "outputId": "f9b93b76-780d-4a02-8c60-f406a9dd64d2"
   },
   "outputs": [],
   "source": [
    "stage = eciOp['Stage'].value_counts().to_frame().reset_index()\\\n",
    "                      .rename(columns={'index':'Stage','Stage':'cantidad'})\n",
    "stage"
   ]
  },
  {
   "cell_type": "code",
   "execution_count": null,
   "metadata": {
    "colab": {
     "base_uri": "https://localhost:8080/",
     "height": 442
    },
    "executionInfo": {
     "elapsed": 1014,
     "status": "ok",
     "timestamp": 1603252274964,
     "user": {
      "displayName": "GERMAN BERNARDO BOBADILLA CATALAN",
      "photoUrl": "",
      "userId": "14005656012307870514"
     },
     "user_tz": 180
    },
    "id": "xlwKuC0zZUuz",
    "outputId": "d3a9539f-149e-49d8-8044-b7537048b3a1"
   },
   "outputs": [],
   "source": [
    "stage.plot(kind='bar', x='Stage', y='cantidad',\\\n",
    "                 width=0.7, figsize=(11,5.5), color='blue',\\\n",
    "                 edgecolor=\"skyblue\", linewidth=4, rot=50)\n",
    "g=plt.gca()\n",
    "g.set_title(\"¿Cuales son las cantidades de oportunidades por estados?\",\\\n",
    "            fontsize=20);\n",
    "g.set_xlabel(\"Stage\", fontsize=18);\n",
    "g.set_ylabel(\"Cantidad\", fontsize=18);"
   ]
  },
  {
   "cell_type": "markdown",
   "metadata": {},
   "source": [
    "-----------"
   ]
  },
  {
   "cell_type": "code",
   "execution_count": null,
   "metadata": {},
   "outputs": [],
   "source": [
    "plt.figure(figsize=(11,5.5))\n",
    "\n",
    "visua=sns.boxplot(x=\"Stage\", y=\"Cantidad_de_Productos_por_Oportunidad\", palette=[\"m\", \"g\"], data=eciOp[(eciOp.Stage=='Closed Lost')|(eciOp.Stage=='Closed Won')])\n",
    "visua.set_title(\"Cantidad de productos por oportunidad según estado\", fontsize=20)\n",
    "visua.set_ylabel(\"Cantidad de Productos\" , fontsize=15)\n",
    "visua.set_xlabel(\"Estado\", fontsize=15)"
   ]
  },
  {
   "cell_type": "markdown",
   "metadata": {},
   "source": [
    "---"
   ]
  },
  {
   "cell_type": "code",
   "execution_count": null,
   "metadata": {},
   "outputs": [],
   "source": [
    "opportunities['Territory'] = opportunities['Territory'].replace(to_replace='None', value=np.nan).dropna()"
   ]
  },
  {
   "cell_type": "code",
   "execution_count": null,
   "metadata": {},
   "outputs": [],
   "source": [
    "#obtenemos las 5 areas con mas avisos, no se si esto esta bien me tira el mismo resultado que con el groupby, usado por Martin\n",
    "top_territories = opportunities['Territory'].value_counts().sort_values(ascending=False).head(5).keys().tolist()\n",
    "\n",
    "df_top_stages = opportunities.loc[opportunities['Territory'].isin(top_territories)]\\\n",
    "    .groupby(['Territory','Stage']).agg({'Territory':'count'})\\\n",
    "    .rename(columns = {'Territory':'cant_oportunidades'})\n",
    "    \n",
    "axs = df_top_stages.reset_index().pivot(index = 'Territory', columns = 'Stage', values='cant_oportunidades')\\\n",
    "    .plot(kind = 'bar', figsize =(12,8), fontsize = 12\\\n",
    "          ,title ='Cantidad de oportunidades por escenarios y por territorios')\n",
    "axs.set_ylabel('Oportunidades', size = 15)\n",
    "axs.set_xlabel('Territorios', size = 15)\n",
    "axs.legend(fontsize = 12)\n",
    "axs.title.set_size(18)"
   ]
  },
  {
   "cell_type": "markdown",
   "metadata": {},
   "source": [
    "---"
   ]
  },
  {
   "cell_type": "code",
   "execution_count": null,
   "metadata": {},
   "outputs": [],
   "source": [
    "#obtenemos las 5 areas con mas avisos, no se si esto esta bien me tira el mismo resultado que con el groupby, usado por Martin\n",
    "top_regions = opportunities['Region'].value_counts().sort_values(ascending=False).head(7).keys().tolist()\n",
    "\n",
    "df_top_stages = opportunities.loc[opportunities['Region'].isin(top_regions)]\\\n",
    "    .groupby(['Region','Stage']).agg({'Region':'count'})\\\n",
    "    .rename(columns = {'Region':'cant_oportunidades'})\n",
    "    \n",
    "axs = df_top_stages.reset_index().pivot(index = 'Region', columns = 'Stage', values='cant_oportunidades')\\\n",
    "    .plot(kind = 'bar', figsize =(12,8), fontsize = 12\\\n",
    "          ,title ='Cantidad de oportunidades por escenarios y por regiones')\n",
    "axs.set_ylabel('Oportunidades', size = 15)\n",
    "axs.set_xlabel('Regiones', size = 15)\n",
    "axs.legend(fontsize = 12)\n",
    "axs.title.set_size(18)"
   ]
  },
  {
   "cell_type": "markdown",
   "metadata": {},
   "source": [
    "---"
   ]
  },
  {
   "cell_type": "code",
   "execution_count": null,
   "metadata": {},
   "outputs": [],
   "source": [
    "niveles = opportunities['Stage'].unique()\n",
    "colores = sns.color_palette(\"hls\", len(niveles))\n",
    "hues = {}\n",
    "for i, n in enumerate(niveles):\n",
    "    hues[n] = colores\n",
    "    \n",
    "g = sns.FacetGrid(opportunities, col=\"Stage\", hue=\"Stage\", col_wrap=2, size=6)\n",
    "g.map(sns.distplot, \"Delivery_Year\")\n",
    "g.set_titles(\"{col_name}\")\n",
    "g.set_axis_labels(\"Año\")"
   ]
  },
  {
   "cell_type": "markdown",
   "metadata": {},
   "source": [
    "# 4. Monto gravado"
   ]
  },
  {
   "cell_type": "code",
   "execution_count": null,
   "metadata": {},
   "outputs": [],
   "source": [
    "#Con el limite que puse en el rango se ve mejor, aunque no estoy teniendo en cuenta los valores mas grandes\n",
    "#que se hacen cada vez mas chicos\n",
    "eciOp[['Total_Taxable_Amount_(converted)']].plot(kind='hist',figsize=(11,5.5),range=[0,2000000])\n",
    "g=plt.gca()\n",
    "g.set_title(\"¿Cómo se distribuye el monto gravado total?\",fontsize=20);\n",
    "g.set_xlabel(\"Monto en dolares\", fontsize=18);\n",
    "g.set_ylabel(\"Cantidad\", fontsize=18);"
   ]
  },
  {
   "cell_type": "markdown",
   "metadata": {},
   "source": [
    "-----------"
   ]
  },
  {
   "cell_type": "code",
   "execution_count": null,
   "metadata": {},
   "outputs": [],
   "source": [
    "pyplot.hist(eciOp[eciOp.Stage=='Closed Lost']['Total_Taxable_Amount_(converted)'], alpha=0.5, label='Closed Lost',range=[0,2000000])\n",
    "pyplot.hist(eciOp[eciOp.Stage=='Closed Won']['Total_Taxable_Amount_(converted)'], alpha=0.5, label='Closed Won',range=[0,2000000])\n",
    "pyplot.title(\"¿Como se distribuye el monto gravado total según el estado\", fontsize=20)\n",
    "pyplot.ylabel('Cantidad')\n",
    "pyplot.xlabel('Monto en dolares')\n",
    "pyplot.legend()"
   ]
  },
  {
   "cell_type": "markdown",
   "metadata": {},
   "source": [
    "---"
   ]
  },
  {
   "cell_type": "code",
   "execution_count": null,
   "metadata": {},
   "outputs": [],
   "source": [
    "world = gpd.read_file(gpd.datasets.get_path('naturalearth_lowres'))"
   ]
  },
  {
   "cell_type": "code",
   "execution_count": null,
   "metadata": {},
   "outputs": [],
   "source": [
    "df = eci\n",
    "df['Territory'] = df['Territory'].replace(to_replace='None', value=np.nan).dropna()\n",
    "df['Territory'] = df['Territory'].replace({'UAE (Dubai)': 'United Arab Emirates', 'China (PRC)': 'China', \\\n",
    "            'Czech Republic': 'Czechia', 'Solomon Islands': 'Solomon Is.', \\\n",
    "            'Bosnia & Herzegovina': 'Bosnia and Herz.', 'Central US': 'United States of America', \\\n",
    "            'Burma': 'Myanmar', 'KSA': 'Saudi Arabia'})"
   ]
  },
  {
   "cell_type": "code",
   "execution_count": null,
   "metadata": {},
   "outputs": [],
   "source": [
    "territory_amount = df.groupby('Territory').agg({'Total_Taxable_Amount_(converted)':'mean'})\n",
    "territory_amount = territory_amount.rename(columns = {'Total_Taxable_Amount_(converted)': 'Mean_Total_Amount'})\n",
    "territory_amount"
   ]
  },
  {
   "cell_type": "code",
   "execution_count": null,
   "metadata": {},
   "outputs": [],
   "source": [
    "world_amount = world.set_index('name').join(territory_amount)"
   ]
  },
  {
   "cell_type": "code",
   "execution_count": null,
   "metadata": {},
   "outputs": [],
   "source": [
    "world_amount.sort_values('Mean_Total_Amount', ascending=False).head(5)"
   ]
  },
  {
   "cell_type": "code",
   "execution_count": null,
   "metadata": {},
   "outputs": [],
   "source": [
    "vmin, vmax = world_amount.Mean_Total_Amount.min(), world_amount.Mean_Total_Amount.max()\n",
    "\n",
    "fig, ax = plt.subplots(1, figsize=(13, 7))\n",
    "\n",
    "world_amount.plot(column='Mean_Total_Amount', cmap='Reds', linewidth=0.8, ax=ax, edgecolor='0.5')\n",
    "ax.axis('off')\n",
    "\n",
    "ax.set_title('Promedios de Montos Totales por Pais', fontdict={'fontsize': '25', 'fontweight' : '3'})\n",
    "ax.annotate('Fuente: Empresa \"Frio Frio\"',xy=(0.1, .08),  xycoords='figure fraction', \n",
    "            horizontalalignment='left', verticalalignment='top', fontsize=12, color='#555555')\n",
    "            \n",
    "sm = plt.cm.ScalarMappable(cmap='Reds', norm=plt.Normalize(vmin=vmin, vmax=vmax))\n",
    "sm._A = []\n",
    "cbar = fig.colorbar(sm)\n",
    "\n",
    "fig.show()"
   ]
  },
  {
   "cell_type": "markdown",
   "metadata": {},
   "source": [
    "# 5. TRF"
   ]
  },
  {
   "cell_type": "code",
   "execution_count": null,
   "metadata": {},
   "outputs": [],
   "source": [
    "#Con el limite que puse en el rango se ve mejor, aunque no estoy teniendo en cuenta los valores mas grandes\n",
    "#que se hacen cada vez mas chicos\n",
    "eciOp[['TRF_totales']].plot(kind='hist',figsize=(11,5.5),range=[0,40])\n",
    "g=plt.gca()\n",
    "g.set_title(\"¿Cómo se distribuyen los TRF totales de cada oportunidad?\",fontsize=20);\n",
    "g.set_xlabel(\"TRF\", fontsize=18);\n",
    "g.set_ylabel(\"Cantidad\", fontsize=18);"
   ]
  },
  {
   "cell_type": "markdown",
   "metadata": {},
   "source": [
    "---"
   ]
  },
  {
   "cell_type": "code",
   "execution_count": null,
   "metadata": {},
   "outputs": [],
   "source": [
    "pyplot.hist(eciOp[eciOp.Stage=='Closed Lost']['TRF_totales'], alpha=0.5, label='Closed Lost',range=[0,40])\n",
    "pyplot.hist(eciOp[eciOp.Stage=='Closed Won']['TRF_totales'], alpha=0.5, label='Closed Won',range=[0,40])\n",
    "pyplot.title(\"¿Como se distribuyen los TRF totales por oportunidad según el estado\", fontsize=20)\n",
    "pyplot.ylabel('Cantidad')\n",
    "pyplot.xlabel('TRF')\n",
    "pyplot.legend()"
   ]
  },
  {
   "cell_type": "markdown",
   "metadata": {},
   "source": [
    "---"
   ]
  },
  {
   "cell_type": "code",
   "execution_count": null,
   "metadata": {},
   "outputs": [],
   "source": [
    "TRF_promedio = eciOp.groupby('Stage').agg({'TRF_promedioDeLaOportunidad':'mean'}).reset_index()\n",
    "TRF_promedio"
   ]
  },
  {
   "cell_type": "code",
   "execution_count": null,
   "metadata": {},
   "outputs": [],
   "source": [
    "TRF_promedio.plot(kind='bar', x='Stage', y='TRF_promedioDeLaOportunidad',\\\n",
    "                 width=0.7, figsize=(11,5.5), color='yellow',\\\n",
    "                 edgecolor=\"black\", linewidth=4, rot=50)\n",
    "g=plt.gca()\n",
    "g.set_title(\"¿Cuales es el TRF promedio según estados?\",\\\n",
    "            fontsize=20);\n",
    "g.set_xlabel(\"Stage\", fontsize=18);\n",
    "g.set_ylabel(\"TRF promedio\", fontsize=18);"
   ]
  },
  {
   "cell_type": "markdown",
   "metadata": {},
   "source": [
    "---"
   ]
  },
  {
   "cell_type": "code",
   "execution_count": null,
   "metadata": {},
   "outputs": [],
   "source": [
    "territory_TRF = df.groupby('Territory').agg({'TRF':'mean'})\n",
    "territory_TRF = territory_TRF.rename(columns = {'TRF': 'Mean_TRF'})\n",
    "territory_TRF"
   ]
  },
  {
   "cell_type": "code",
   "execution_count": null,
   "metadata": {},
   "outputs": [],
   "source": [
    "world_TRF = world.set_index('name').join(territory_TRF)\n",
    "world_TRF"
   ]
  },
  {
   "cell_type": "code",
   "execution_count": null,
   "metadata": {},
   "outputs": [],
   "source": [
    "vmin, vmax = world_TRF.Mean_TRF.min(), world_TRF.Mean_TRF.max()\n",
    "\n",
    "fig, ax = plt.subplots(1, figsize=(13, 7))\n",
    "\n",
    "world_TRF.plot(column='Mean_TRF', cmap='Blues', linewidth=0.8, ax=ax, edgecolor='0.5')\n",
    "ax.axis('off')\n",
    "\n",
    "ax.set_title('Promedio de TRF por Pais', fontdict={'fontsize': '25', 'fontweight' : '3'})\n",
    "ax.annotate('Fuente: Empresa \"Frio Frio\"',xy=(0.1, .08),  xycoords='figure fraction', \n",
    "            horizontalalignment='left', verticalalignment='top', fontsize=12, color='#555555')\n",
    "            \n",
    "sm = plt.cm.ScalarMappable(cmap='Blues', norm=plt.Normalize(vmin=vmin, vmax=vmax))\n",
    "sm._A = []\n",
    "cbar = fig.colorbar(sm)\n",
    "\n",
    "fig.show()"
   ]
  },
  {
   "cell_type": "markdown",
   "metadata": {},
   "source": [
    "---"
   ]
  },
  {
   "cell_type": "code",
   "execution_count": null,
   "metadata": {},
   "outputs": [],
   "source": [
    "eciOp.plot(kind='scatter', x='TRF_totales', y='Total_Taxable_Amount_(converted)',figsize=(11,5.5))\n",
    "g=plt.gca()\n",
    "g.set_title(\"Relación entre los TRF totales y el monto gravado\",\\\n",
    "            fontsize=20);\n",
    "g.set_xlabel(\"TRF totales de cada oportunidad\", fontsize=18);\n",
    "g.set_ylabel(\"Monto gravado total\", fontsize=18);"
   ]
  },
  {
   "cell_type": "markdown",
   "metadata": {},
   "source": [
    "# 6. Porcentaje de oportunidades ganadas"
   ]
  },
  {
   "cell_type": "code",
   "execution_count": null,
   "metadata": {},
   "outputs": [],
   "source": [
    "regionGroup = eciWon.groupby(['Region']).agg({'ganada':['sum','count']}).reset_index()\n",
    "regionGroup.columns = ['Region','cantidad de won','total']\n",
    "regionGroup"
   ]
  },
  {
   "cell_type": "code",
   "execution_count": null,
   "metadata": {},
   "outputs": [],
   "source": [
    "regionGroup['porcentaje de oportunidades ganadas'] = regionGroup['cantidad de won']/regionGroup['total']*100\n",
    "regionGroup.sort_values('porcentaje de oportunidades ganadas',ascending=False,inplace=True)"
   ]
  },
  {
   "cell_type": "code",
   "execution_count": null,
   "metadata": {},
   "outputs": [],
   "source": [
    "regionGroup.plot(kind='bar', x='Region', y='porcentaje de oportunidades ganadas',\\\n",
    "                 width=0.7, figsize=(11,5.5), color='red',\\\n",
    "                 edgecolor=\"pink\", linewidth=4,rot=0)\n",
    "g=plt.gca()\n",
    "g.set_title(\"Relación entre la region y las oportunidades ganadas\",\\\n",
    "            fontsize=20);\n",
    "g.set_xlabel(\"Region\", fontsize=18);\n",
    "g.set_ylabel(\"Porcentaje de oportunidades ganadas\", fontsize=18);"
   ]
  },
  {
   "cell_type": "markdown",
   "metadata": {},
   "source": [
    "---"
   ]
  },
  {
   "cell_type": "code",
   "execution_count": null,
   "metadata": {},
   "outputs": [],
   "source": [
    "eciWon['Territory'] = eciWon['Territory'].apply(lambda x: cambiar_nombre(x))"
   ]
  },
  {
   "cell_type": "code",
   "execution_count": null,
   "metadata": {},
   "outputs": [],
   "source": [
    "territoryGroup = eciWon.groupby(['Territory']).agg({'ganada':['sum','count']}).reset_index()\n",
    "territoryGroup.columns = ['Territory','cantidad de won','total']\n",
    "territoryGroup"
   ]
  },
  {
   "cell_type": "code",
   "execution_count": null,
   "metadata": {},
   "outputs": [],
   "source": [
    "#Sacamos los territorios que aparcen muy pocas veces para no caer en \"la ecuacion mas peligrosa de la historia\"\n",
    "territoryGroup = territoryGroup[territoryGroup['total']>10]"
   ]
  },
  {
   "cell_type": "code",
   "execution_count": null,
   "metadata": {},
   "outputs": [],
   "source": [
    "territoryGroup['Porcentaje de oportunidades ganadas'] = territoryGroup['cantidad de won']/territoryGroup['total']*100\n",
    "territoryGroup.sort_values('Porcentaje de oportunidades ganadas',ascending=False,inplace=True)"
   ]
  },
  {
   "cell_type": "code",
   "execution_count": null,
   "metadata": {},
   "outputs": [],
   "source": [
    "territoryGroup['Code'] = territoryGroup['Territory'].apply(lambda x: get_alpha_3(x))"
   ]
  },
  {
   "cell_type": "code",
   "execution_count": null,
   "metadata": {},
   "outputs": [],
   "source": [
    "fig = px.choropleth(territoryGroup,locations='Code',color='Porcentaje de oportunidades ganadas',\\\n",
    "                    color_continuous_scale=px.colors.sequential.Bluyl,hover_name='Territory',)\n",
    "fig.update_layout(\n",
    "    title_text = '¿Qué países tienen mayor porcentaje de oportunidades ganadas?'\n",
    ")\n",
    "fig.update_geos(projection_type=\"natural earth\")\n",
    "#fig.show()\n",
    "fig.write_image(\"visu.png\",width=1366,height= 768)\n",
    "Image(\"visu.png\")"
   ]
  },
  {
   "cell_type": "markdown",
   "metadata": {},
   "source": [
    "---"
   ]
  },
  {
   "cell_type": "code",
   "execution_count": null,
   "metadata": {},
   "outputs": [],
   "source": [
    "buro = eciWon.groupby(['Bureaucratic_Code']).agg({'ganada':['sum','count'],'Total_Taxable_Amount_(converted)':'sum','TRF_totales':'first'}).reset_index()\n",
    "buro.columns = ['Codigo burocratico','Cantidad de ganadas','Total de Oportunidades','Monto gravado total','TRF totales']\n",
    "buro['Monto Reescalado'] = buro['Monto gravado total'].apply(lambda x: x*0.00001)\n",
    "buro['Porcentaje de ganadas'] = (buro['Cantidad de ganadas']/buro['Total de Oportunidades'])*100\n",
    "#Sacamos los codigos que aparcen muy pocas veces para no caer en \"la ecuacion mas peligrosa de la historia\"\n",
    "buro = buro[buro['Total de Oportunidades']>2]\n",
    "buro"
   ]
  },
  {
   "cell_type": "code",
   "execution_count": null,
   "metadata": {},
   "outputs": [],
   "source": [
    "buro.plot(kind='bar', x='Codigo burocratico', y='Porcentaje de ganadas',\\\n",
    "                 width=0.7, figsize=(11,5.5), color='red',\\\n",
    "                 edgecolor=\"pink\", linewidth=4,rot=60)\n",
    "g=plt.gca()\n",
    "g.set_title(\"Relación entre los códigos burocraticos y las oportunidades ganadas\",\\\n",
    "            fontsize=20);\n",
    "g.set_xlabel(\"Codigo burocratico\", fontsize=18);\n",
    "g.set_ylabel(\"Porcentaje de oportunidades ganadas\", fontsize=18);"
   ]
  },
  {
   "cell_type": "markdown",
   "metadata": {},
   "source": [
    "# 7. Códigos burocraticos y aprobaciones epeciales"
   ]
  },
  {
   "cell_type": "code",
   "execution_count": null,
   "metadata": {},
   "outputs": [],
   "source": [
    "necesitaAprobacion = eciOp['Pricing, Delivery_Terms_Quote_Appr'].value_counts()[1]\n",
    "obtuvoAprobacion = eciOp['Pricing, Delivery_Terms_Approved'].value_counts()[1]"
   ]
  },
  {
   "cell_type": "code",
   "execution_count": null,
   "metadata": {},
   "outputs": [],
   "source": [
    "index = ['Aprobacion']\n",
    "df = pd.DataFrame({'necesita': necesitaAprobacion,'obtuvo': obtuvoAprobacion}, index=index)\n",
    "ax = df.plot.bar(rot=0,figsize=(11,5.5))\n",
    "ax.set_title(\"Aprobación especial de precio total y terminos de entrega\", fontsize=20)\n",
    "ax.set_ylabel(\"Cantidad de oportunidades\" , fontsize=15)"
   ]
  },
  {
   "cell_type": "markdown",
   "metadata": {},
   "source": [
    "---"
   ]
  },
  {
   "cell_type": "code",
   "execution_count": null,
   "metadata": {},
   "outputs": [],
   "source": [
    "necesitaCodigo = eciOp['Bureaucratic_Code_0_Approval'].value_counts()[1]\n",
    "obtuvoCodigo = eciOp['Bureaucratic_Code_0_Approved'].value_counts()[1]"
   ]
  },
  {
   "cell_type": "code",
   "execution_count": null,
   "metadata": {},
   "outputs": [],
   "source": [
    "index = ['Codigo burocratico']\n",
    "df = pd.DataFrame({'necesita': necesitaCodigo,'obtuvo': obtuvoCodigo}, index=index)\n",
    "ax = df.plot.bar(rot=0,figsize=(11,5.5))\n",
    "ax.set_title(\"Codigo burocratico\", fontsize=20)\n",
    "ax.set_ylabel(\"Cantidad de oportunidades\" , fontsize=15)"
   ]
  },
  {
   "cell_type": "markdown",
   "metadata": {},
   "source": [
    "---"
   ]
  },
  {
   "cell_type": "code",
   "execution_count": null,
   "metadata": {},
   "outputs": [],
   "source": [
    "bureauctratic_codes= eci.groupby(['Bureaucratic_Code_0_Approval','Bureaucratic_Code_0_Approved'])['Stage'].value_counts().to_frame()\n",
    "bureauctratic_codes = bureauctratic_codes.unstack()\n",
    "bureauctratic_codes.columns= ['Closed Lost','Closed Won','Negotiation', 'Proposal','Qualification']\n",
    "bureauctratic_codes = bureauctratic_codes.reset_index()\n",
    "bureauctratic_codes = bureauctratic_codes.fillna(0)\n",
    "#0 si no se necesito ni aprobo\n",
    "#1 si se necesito y aprobo\n",
    "#2 si se necesito y no se aprobo\n",
    "conditions = [\n",
    "    ((bureauctratic_codes['Bureaucratic_Code_0_Approval']) == 0 & (bureauctratic_codes['Bureaucratic_Code_0_Approved'] == 0)),\n",
    "    ((bureauctratic_codes['Bureaucratic_Code_0_Approval']) == 1 & (bureauctratic_codes['Bureaucratic_Code_0_Approved'] == 0)),\n",
    "    ((bureauctratic_codes['Bureaucratic_Code_0_Approval']) == 1 & (bureauctratic_codes['Bureaucratic_Code_0_Approved'] == 1)),\n",
    "    ]\n",
    "\n",
    "# create a list of the values we want to assign for each condition\n",
    "values = [0, 1, 2]\n",
    "\n",
    "# create a new column and use np.select to assign values to it using our lists as arguments\n",
    "bureauctratic_codes['Bureauctratic_code'] = np.select(conditions, values)\n",
    "bureauctratic_codes['Total_opportunities'] =  bureauctratic_codes['Closed Lost'] + bureauctratic_codes['Closed Won']\\\n",
    "+ bureauctratic_codes['Negotiation'] + bureauctratic_codes['Proposal'] + bureauctratic_codes['Qualification'] \n",
    "bureauctratic_codes"
   ]
  },
  {
   "cell_type": "code",
   "execution_count": null,
   "metadata": {},
   "outputs": [],
   "source": [
    "heatmap_data = bureauctratic_codes.set_index('Bureauctratic_code').loc[:,['Closed Lost','Closed Won']]\n",
    "x_axis_labels = ['Closed Lost','Closed Won'] \n",
    "y_axis_labels = ['Not needed nor approbed','Needed and approved','Needed not approved'] \n",
    "ax = plt.axes()\n",
    "sns.heatmap(heatmap_data, xticklabels=x_axis_labels, yticklabels=y_axis_labels,cmap=\"YlGnBu\", ax = ax)\n",
    "ax.set_title('Cantidad de oportunidades y su estado segun codigo burocratico')\n",
    "plt.show()"
   ]
  },
  {
   "cell_type": "markdown",
   "metadata": {},
   "source": [
    "---"
   ]
  },
  {
   "cell_type": "code",
   "execution_count": null,
   "metadata": {},
   "outputs": [],
   "source": [
    "territories = df['Territory'].value_counts().sort_values(ascending=False).head(10).keys().tolist()\n",
    "territories"
   ]
  },
  {
   "cell_type": "code",
   "execution_count": null,
   "metadata": {},
   "outputs": [],
   "source": [
    "df_heatmap = df.loc[df['Territory'].isin(territories)]\\\n",
    "    .groupby(['Territory','Pricing, Delivery_Terms_Quote_Appr']).agg({'Territory':'count'})\\\n",
    "    .rename(columns = {'Territory':'cant_territory'})\n",
    "df_heatmap.head()"
   ]
  },
  {
   "cell_type": "code",
   "execution_count": null,
   "metadata": {},
   "outputs": [],
   "source": [
    "heatmap1_data = pd.pivot_table(df_heatmap, values='cant_territory', \n",
    "                     index=['Pricing, Delivery_Terms_Quote_Appr'], \n",
    "                     columns='Territory')\n",
    "\n",
    "sns.heatmap(heatmap1_data, cmap=\"YlGnBu\")"
   ]
  },
  {
   "cell_type": "markdown",
   "metadata": {},
   "source": [
    "---"
   ]
  },
  {
   "cell_type": "code",
   "execution_count": null,
   "metadata": {},
   "outputs": [],
   "source": [
    "df_heatmap2 = df.loc[df['Territory'].isin(territories)]\\\n",
    "    .groupby(['Territory','Bureaucratic_Code_0_Approved']).agg({'Territory':'count'})\\\n",
    "    .rename(columns = {'Territory':'cant_territory'})\n",
    "df_heatmap2.head()"
   ]
  },
  {
   "cell_type": "code",
   "execution_count": null,
   "metadata": {},
   "outputs": [],
   "source": [
    "heatmap2_data = pd.pivot_table(df_heatmap2, values='cant_territory', \n",
    "                     index=['Bureaucratic_Code_0_Approved'], \n",
    "                     columns='Territory')\n",
    "\n",
    "sns.heatmap(heatmap2_data, cmap=\"YlGnBu\")"
   ]
  },
  {
   "cell_type": "markdown",
   "metadata": {},
   "source": [
    "# 8. Vendedores"
   ]
  },
  {
   "cell_type": "code",
   "execution_count": null,
   "metadata": {},
   "outputs": [],
   "source": [
    "#vendedores y sus oporntunidades\n",
    "vendedores = eci.groupby('Account_Owner')['Stage'].value_counts().to_frame()\n",
    "vendedores =vendedores.unstack()\n",
    "vendedores.columns = ['Closed Lost','Closed Won','Negotiation','Proposal','Qualification']\n",
    "vendedores =vendedores.fillna(0)"
   ]
  },
  {
   "cell_type": "code",
   "execution_count": null,
   "metadata": {},
   "outputs": [],
   "source": [
    "vendedores['Cantidad'] = vendedores['Closed Lost'] + vendedores['Closed Won'] + vendedores['Negotiation'] + vendedores['Proposal'] + vendedores['Qualification']\n",
    "vendedores_top_10 = vendedores.nlargest(20,'Cantidad')\n",
    "#vendedores_top_10[['Closed Lost','Closed Won','Negotiation','Proposal','Qualification']].plot.barh(stacked = True, colormap='Pastel1', title='Vendedores con mayores oportunidades', figsize=(10,10))\n",
    "vendedores_top_10[['Closed Lost','Closed Won']].plot.barh(stacked = True, colormap='tab10', title='Top 10 vendedores con mayores oportinudades', figsize=(10,10))"
   ]
  },
  {
   "cell_type": "code",
   "execution_count": null,
   "metadata": {},
   "outputs": [],
   "source": [
    "#vendedores normalizado y sus oporntunidades\n",
    "vendedores2 = eci.groupby('Account_Owner')['Stage'].value_counts(normalize = True).to_frame()\n",
    "vendedores2 =vendedores2.unstack()\n",
    "vendedores2.columns = ['Closed Lost','Closed Won','Negotiation','Proposal','Qualification']\n",
    "vendedores2 =vendedores2.fillna(0)"
   ]
  },
  {
   "cell_type": "code",
   "execution_count": null,
   "metadata": {},
   "outputs": [],
   "source": [
    "#vendedores normalizado, cuantas oportunidades cerraron, perdieron,...\n",
    "vendedores2.plot.barh(stacked = True, colormap='Pastel1', title='Desempeño de los vendedores',figsize =(10,15))"
   ]
  },
  {
   "cell_type": "markdown",
   "metadata": {},
   "source": [
    "# 9. Distribucion de oportunidades y monto"
   ]
  },
  {
   "cell_type": "code",
   "execution_count": null,
   "metadata": {},
   "outputs": [],
   "source": [
    "bubbleVendedores = eciWon.groupby(['Opportunity_Owner']).agg({'ganada':['sum','count'],'Total_Taxable_Amount_(converted)':'sum','TRF_totales':'first'}).reset_index()\n",
    "bubbleVendedores.columns = ['Vendedor','Cantidad de ganadas','Total de Oportunidades','Monto gravado total','TRF totales']\n",
    "bubbleVendedores['Monto Reescalado'] = bubbleVendedores['Monto gravado total'].apply(lambda x: x*0.000001)\n",
    "bubbleVendedores['Porcentaje de ganadas'] = (bubbleVendedores['Cantidad de ganadas']/bubbleVendedores['Total de Oportunidades'])*100\n",
    "bubbleVendedores.head()"
   ]
  },
  {
   "cell_type": "code",
   "execution_count": null,
   "metadata": {},
   "outputs": [],
   "source": [
    "plt.figure(figsize=(10,5.5))\n",
    "plt.scatter('Total de Oportunidades', 'Cantidad de ganadas', \n",
    "             s='Monto Reescalado',\n",
    "             alpha=0.5, \n",
    "             data=bubbleVendedores,label=None)\n",
    "plt.xlabel(\"Total de Oportunidades\", size=16)\n",
    "plt.ylabel(\"Cantidad de ganadas\", size=16)\n",
    "plt.title(\"Vendedores\", size=18)\n",
    "\n",
    "\n",
    "for area in [10, 100, 1000, 3000]:\n",
    "    plt.scatter([], [], c='k', alpha=0.3, s=area,\n",
    "                label=str(area) + ' millones')\n",
    "plt.legend(scatterpoints=1, frameon=False, labelspacing=1, title='Monto gravado total en USD')"
   ]
  },
  {
   "cell_type": "markdown",
   "metadata": {},
   "source": [
    "---"
   ]
  },
  {
   "cell_type": "code",
   "execution_count": null,
   "metadata": {},
   "outputs": [],
   "source": [
    "bubbleSource = eciWon.groupby(['Source ']).agg({'ganada':['sum','count'],'Total_Taxable_Amount_(converted)':'sum','TRF_totales':'first'}).reset_index()\n",
    "bubbleSource.columns = ['Fuente de creacion de la oportunidad','Cantidad de ganadas','Total de Oportunidades','Monto gravado total','TRF totales']\n",
    "bubbleSource['Monto Reescalado'] = bubbleSource['Monto gravado total'].apply(lambda x: x*0.000001)\n",
    "bubbleSource['Porcentaje de ganadas'] = (bubbleSource['Cantidad de ganadas']/bubbleSource['Total de Oportunidades'])*100\n",
    "bubbleSource = bubbleSource[bubbleSource['Fuente de creacion de la oportunidad']!='None']\n",
    "bubbleSource = bubbleSource[bubbleSource['Total de Oportunidades']>4]\n",
    "bubbleSource"
   ]
  },
  {
   "cell_type": "code",
   "execution_count": null,
   "metadata": {},
   "outputs": [],
   "source": [
    "plt.figure(figsize=(10,5.5))\n",
    "plt.scatter('Total de Oportunidades', 'Cantidad de ganadas', \n",
    "             s='Monto Reescalado',\n",
    "             alpha=0.5, \n",
    "             data=bubbleSource,label=None)\n",
    "plt.xlabel(\"Total de Oportunidades\", size=16)\n",
    "plt.ylabel(\"Cantidad de ganadas\", size=16)\n",
    "plt.title(\"Fuentes de creacion de la oportunidad\", size=18)\n",
    "\n",
    "\n",
    "for area in [10, 100, 1000, 4900]:\n",
    "    plt.scatter([], [], c='k', alpha=0.3, s=area,\n",
    "                label=str(area) + ' millones')\n",
    "plt.legend(scatterpoints=1, frameon=False, labelspacing=1, title='Monto gravado total en USD')"
   ]
  },
  {
   "cell_type": "markdown",
   "metadata": {},
   "source": [
    "---"
   ]
  },
  {
   "cell_type": "code",
   "execution_count": null,
   "metadata": {},
   "outputs": [],
   "source": [
    "bubbleAccount = eciWon.groupby(['Account_Name']).agg({'ganada':['sum','count'],'Total_Taxable_Amount_(converted)':'sum','TRF_totales':'first'}).reset_index()\n",
    "bubbleAccount.columns = ['Cuentas de clientes','Cantidad de ganadas','Total de Oportunidades','Monto gravado total','TRF totales']\n",
    "bubbleAccount['Monto Reescalado'] = bubbleAccount['Monto gravado total'].apply(lambda x: x*0.000001)\n",
    "bubbleAccount['Porcentaje de ganadas'] = (bubbleAccount['Cantidad de ganadas']/bubbleAccount['Total de Oportunidades'])*100\n",
    "bubbleAccount = bubbleAccount[bubbleAccount['Total de Oportunidades']>35]\n",
    "bubbleAccount.head()"
   ]
  },
  {
   "cell_type": "code",
   "execution_count": null,
   "metadata": {},
   "outputs": [],
   "source": [
    "plt.figure(figsize=(10,5.5))\n",
    "plt.scatter('Total de Oportunidades', 'Cantidad de ganadas', \n",
    "             s='Monto Reescalado',\n",
    "             alpha=0.5, \n",
    "             data=bubbleAccount,label=None)\n",
    "plt.xlabel(\"Total de Oportunidades\", size=16)\n",
    "plt.ylabel(\"Cantidad de ganadas\", size=16)\n",
    "plt.title(\"Cuentas de clientes\", size=18)\n",
    "\n",
    "\n",
    "for area in [10, 100, 250, 500]:\n",
    "    plt.scatter([], [], c='k', alpha=0.3, s=area,\n",
    "                label=str(area) + ' millones')\n",
    "plt.legend(scatterpoints=1, frameon=False, labelspacing=1, title='Monto gravado total en USD')"
   ]
  },
  {
   "cell_type": "markdown",
   "metadata": {},
   "source": [
    "---"
   ]
  },
  {
   "cell_type": "code",
   "execution_count": null,
   "metadata": {},
   "outputs": [],
   "source": [
    "bubbleAccountType = eciWon.groupby(['Account_Type']).agg({'ganada':['sum','count'],'Total_Taxable_Amount_(converted)':'sum','TRF_totales':'first'}).reset_index()\n",
    "bubbleAccountType.columns = ['Tipo de cuenta cliente','Cantidad de ganadas','Total de Oportunidades','Monto gravado total','TRF totales']\n",
    "bubbleAccountType['Monto Reescalado'] = bubbleAccountType['Monto gravado total'].apply(lambda x: x*0.000001)\n",
    "bubbleAccountType['Porcentaje de ganadas'] = (bubbleAccountType['Cantidad de ganadas']/bubbleAccountType['Total de Oportunidades'])*100\n",
    "bubbleAccountType = bubbleAccountType[(bubbleAccountType['Total de Oportunidades']>17) & (bubbleAccountType['Tipo de cuenta cliente']!= 'None')]\n",
    "bubbleAccountType"
   ]
  },
  {
   "cell_type": "code",
   "execution_count": null,
   "metadata": {},
   "outputs": [],
   "source": [
    "plt.figure(figsize=(10,5.5))\n",
    "plt.scatter('Total de Oportunidades', 'Cantidad de ganadas', \n",
    "             s='Monto Reescalado',\n",
    "             alpha=0.5, \n",
    "             data=bubbleAccountType,label=None)\n",
    "plt.xlabel(\"Total de Oportunidades\", size=16)\n",
    "plt.ylabel(\"Cantidad de ganadas\", size=16)\n",
    "plt.title(\"Tipo de cuenta de cliente\", size=18)\n",
    "\n",
    "\n",
    "for area in [1000, 6300, 7300]:\n",
    "    plt.scatter([], [], c='k', alpha=0.3, s=area,\n",
    "                label=str(area) + ' millones')\n",
    "plt.legend(scatterpoints=1, frameon=False, labelspacing=1, title='Monto gravado total en USD')"
   ]
  },
  {
   "cell_type": "markdown",
   "metadata": {},
   "source": [
    "---"
   ]
  },
  {
   "cell_type": "code",
   "execution_count": null,
   "metadata": {},
   "outputs": [],
   "source": [
    "bubbleOpportunity = eciWon.groupby(['Opportunity_Type']).agg({'ganada':['sum','count'],'Total_Taxable_Amount_(converted)':'sum','TRF_totales':'first'}).reset_index()\n",
    "bubbleOpportunity.columns = ['Tipo de oportunidad','Cantidad de ganadas','Total de Oportunidades','Monto gravado total','TRF totales']\n",
    "bubbleOpportunity['Monto Reescalado'] = bubbleOpportunity['Monto gravado total'].apply(lambda x: x*0.000001)\n",
    "bubbleOpportunity['Porcentaje de ganadas'] = (bubbleOpportunity['Cantidad de ganadas']/bubbleOpportunity['Total de Oportunidades'])*100\n",
    "bubbleOpportunity = bubbleOpportunity[bubbleOpportunity['Total de Oportunidades']>9]\n",
    "bubbleOpportunity.head()"
   ]
  },
  {
   "cell_type": "code",
   "execution_count": null,
   "metadata": {},
   "outputs": [],
   "source": [
    "plt.figure(figsize=(10,5.5))\n",
    "plt.scatter('Total de Oportunidades', 'Cantidad de ganadas', \n",
    "             s='Monto Reescalado',\n",
    "             alpha=0.5, \n",
    "             data=bubbleOpportunity,label=None)\n",
    "plt.xlabel(\"Total de Oportunidades\", size=16)\n",
    "plt.ylabel(\"Cantidad de ganadas\", size=16)\n",
    "plt.title(\"Tipo de oportunidad\", size=18)\n",
    "\n",
    "\n",
    "for area in [100, 1000, 3000, 12000]:\n",
    "    plt.scatter([], [], c='k', alpha=0.3, s=area,\n",
    "                label=str(area) + ' millones')\n",
    "plt.legend(scatterpoints=1, frameon=False, labelspacing=1, title='Monto gravado total en USD')"
   ]
  },
  {
   "cell_type": "markdown",
   "metadata": {},
   "source": [
    "---"
   ]
  },
  {
   "cell_type": "code",
   "execution_count": null,
   "metadata": {},
   "outputs": [],
   "source": [
    "bubbleDelivery = eciWon.groupby(['Delivery_Terms']).agg({'ganada':['sum','count'],'Total_Taxable_Amount_(converted)':'sum','TRF_totales':'first'}).reset_index()\n",
    "bubbleDelivery.columns = ['Terminos de entrega','Cantidad de ganadas','Total de Oportunidades','Monto gravado total','TRF totales']\n",
    "bubbleDelivery['Monto Reescalado'] = bubbleDelivery['Monto gravado total'].apply(lambda x: x*0.000001)\n",
    "bubbleDelivery['Porcentaje de ganadas'] = (bubbleDelivery['Cantidad de ganadas']/bubbleDelivery['Total de Oportunidades'])*100\n",
    "bubbleDelivery = bubbleDelivery[bubbleDelivery['Total de Oportunidades']>4]\n",
    "bubbleDelivery"
   ]
  },
  {
   "cell_type": "code",
   "execution_count": null,
   "metadata": {},
   "outputs": [],
   "source": [
    "plt.figure(figsize=(10,5.5))\n",
    "plt.scatter('Total de Oportunidades', 'Cantidad de ganadas', \n",
    "             s='Monto Reescalado',\n",
    "             alpha=0.5, \n",
    "             data=bubbleDelivery,label=None)\n",
    "plt.xlabel(\"Total de Oportunidades\", size=16)\n",
    "plt.ylabel(\"Cantidad de ganadas\", size=16)\n",
    "plt.title(\"Terminos de entrega\", size=18)\n",
    "\n",
    "\n",
    "for area in [100, 3500, 5000, 7000]:\n",
    "    plt.scatter([], [], c='k', alpha=0.3, s=area,\n",
    "                label=str(area) + ' millones')\n",
    "plt.legend(scatterpoints=1, frameon=False, labelspacing=1, title='Monto gravado total en USD')"
   ]
  },
  {
   "cell_type": "markdown",
   "metadata": {
    "collapsed": true
   },
   "source": [
    "# 10. Productos por etapa"
   ]
  },
  {
   "cell_type": "code",
   "execution_count": null,
   "metadata": {},
   "outputs": [],
   "source": [
    "productos = eci.groupby('Product_Name')['Stage'].value_counts().to_frame()\n",
    "productos = productos.unstack()\n",
    "productos.columns = ['Closed Lost','Closed Won','Negotiation','Proposal','Qualification']\n",
    "productos = productos.fillna(0).nlargest(20, 'Closed Won')"
   ]
  },
  {
   "cell_type": "code",
   "execution_count": null,
   "metadata": {},
   "outputs": [],
   "source": [
    "productos.plot.barh(stacked = True, colormap='Pastel2', title='Distribucion productos por stage',figsize =(10,15))\n",
    "plt.xlabel(\"Cantidad\", size=16)\n",
    "plt.ylabel(\"Productos\", size=16)"
   ]
  },
  {
   "cell_type": "code",
   "execution_count": null,
   "metadata": {},
   "outputs": [],
   "source": [
    "productosYear = eci.groupby('Product_Name')['Delivery_Year'].value_counts().to_frame()\n",
    "productosYear = productosYear.unstack()\n",
    "productosYear.columns = ['2016','2017','2018','2019','2020']\n",
    "productosYear = productosYear.fillna(0).nlargest(20,'2019')"
   ]
  },
  {
   "cell_type": "code",
   "execution_count": null,
   "metadata": {},
   "outputs": [],
   "source": [
    "productosYear.plot.barh(stacked = True, colormap='Pastel2', title='Distribución anual de los 20 productos con más ocurrencias durante 2019',figsize =(10,15))\n",
    "plt.xlabel(\"Cantidad\", size=16)\n",
    "plt.ylabel(\"Productos\", size=16)"
   ]
  },
  {
   "cell_type": "code",
   "execution_count": null,
   "metadata": {},
   "outputs": [],
   "source": []
  }
 ],
 "metadata": {
  "colab": {
   "authorship_tag": "ABX9TyM7ENFhDZLqMywLxF9JtGvI",
   "collapsed_sections": [],
   "name": "Copia de finger.ipynb",
   "provenance": [],
   "toc_visible": true
  },
  "kernelspec": {
   "display_name": "Python 3",
   "language": "python",
   "name": "python3"
  },
  "language_info": {
   "codemirror_mode": {
    "name": "ipython",
    "version": 3
   },
   "file_extension": ".py",
   "mimetype": "text/x-python",
   "name": "python",
   "nbconvert_exporter": "python",
   "pygments_lexer": "ipython3",
   "version": "3.8.5"
  }
 },
 "nbformat": 4,
 "nbformat_minor": 1
}
