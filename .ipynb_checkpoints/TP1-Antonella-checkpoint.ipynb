{
 "cells": [
  {
   "cell_type": "code",
   "execution_count": 1,
   "metadata": {},
   "outputs": [],
   "source": [
    "import pandas as pd\n",
    "import seaborn as sns\n",
    "import matplotlib.pyplot as plt"
   ]
  },
  {
   "cell_type": "code",
   "execution_count": 2,
   "metadata": {},
   "outputs": [
    {
     "data": {
      "text/html": [
       "<div>\n",
       "<style scoped>\n",
       "    .dataframe tbody tr th:only-of-type {\n",
       "        vertical-align: middle;\n",
       "    }\n",
       "\n",
       "    .dataframe tbody tr th {\n",
       "        vertical-align: top;\n",
       "    }\n",
       "\n",
       "    .dataframe thead th {\n",
       "        text-align: right;\n",
       "    }\n",
       "</style>\n",
       "<table border=\"1\" class=\"dataframe\">\n",
       "  <thead>\n",
       "    <tr style=\"text-align: right;\">\n",
       "      <th></th>\n",
       "      <th>ID</th>\n",
       "      <th>Region</th>\n",
       "      <th>Territory</th>\n",
       "      <th>Pricing, Delivery_Terms_Quote_Appr</th>\n",
       "      <th>Pricing, Delivery_Terms_Approved</th>\n",
       "      <th>Bureaucratic_Code_0_Approval</th>\n",
       "      <th>Bureaucratic_Code_0_Approved</th>\n",
       "      <th>Submitted_for_Approval</th>\n",
       "      <th>Bureaucratic_Code</th>\n",
       "      <th>Account_Created_Date</th>\n",
       "      <th>...</th>\n",
       "      <th>Delivery_Quarter</th>\n",
       "      <th>Delivery_Year</th>\n",
       "      <th>Actual_Delivery_Date</th>\n",
       "      <th>TRF</th>\n",
       "      <th>Total_Amount_Currency</th>\n",
       "      <th>Total_Amount</th>\n",
       "      <th>Total_Taxable_Amount_Currency</th>\n",
       "      <th>Total_Taxable_Amount</th>\n",
       "      <th>Stage</th>\n",
       "      <th>Prod_Category_A</th>\n",
       "    </tr>\n",
       "  </thead>\n",
       "  <tbody>\n",
       "    <tr>\n",
       "      <th>0</th>\n",
       "      <td>27761</td>\n",
       "      <td>EMEA</td>\n",
       "      <td>None</td>\n",
       "      <td>1</td>\n",
       "      <td>1</td>\n",
       "      <td>1</td>\n",
       "      <td>1</td>\n",
       "      <td>0</td>\n",
       "      <td>Bureaucratic_Code_4</td>\n",
       "      <td>6/16/2015</td>\n",
       "      <td>...</td>\n",
       "      <td>Q2</td>\n",
       "      <td>2016</td>\n",
       "      <td>NaT</td>\n",
       "      <td>10</td>\n",
       "      <td>EUR</td>\n",
       "      <td>5272800.0</td>\n",
       "      <td>EUR</td>\n",
       "      <td>5272800.0</td>\n",
       "      <td>Closed Lost</td>\n",
       "      <td>Prod_Category_A_None</td>\n",
       "    </tr>\n",
       "    <tr>\n",
       "      <th>1</th>\n",
       "      <td>27760</td>\n",
       "      <td>EMEA</td>\n",
       "      <td>None</td>\n",
       "      <td>0</td>\n",
       "      <td>0</td>\n",
       "      <td>0</td>\n",
       "      <td>0</td>\n",
       "      <td>0</td>\n",
       "      <td>Bureaucratic_Code_4</td>\n",
       "      <td>6/16/2015</td>\n",
       "      <td>...</td>\n",
       "      <td>Q1</td>\n",
       "      <td>2016</td>\n",
       "      <td>NaT</td>\n",
       "      <td>0</td>\n",
       "      <td>EUR</td>\n",
       "      <td>48230.0</td>\n",
       "      <td>EUR</td>\n",
       "      <td>48230.0</td>\n",
       "      <td>Closed Won</td>\n",
       "      <td>Prod_Category_A_None</td>\n",
       "    </tr>\n",
       "    <tr>\n",
       "      <th>2</th>\n",
       "      <td>27446</td>\n",
       "      <td>Americas</td>\n",
       "      <td>NW America</td>\n",
       "      <td>0</td>\n",
       "      <td>0</td>\n",
       "      <td>0</td>\n",
       "      <td>0</td>\n",
       "      <td>0</td>\n",
       "      <td>Bureaucratic_Code_4</td>\n",
       "      <td>4/21/2015</td>\n",
       "      <td>...</td>\n",
       "      <td>Q1</td>\n",
       "      <td>2016</td>\n",
       "      <td>NaT</td>\n",
       "      <td>0</td>\n",
       "      <td>USD</td>\n",
       "      <td>83865.6</td>\n",
       "      <td>USD</td>\n",
       "      <td>83865.6</td>\n",
       "      <td>Closed Won</td>\n",
       "      <td>Prod_Category_A_None</td>\n",
       "    </tr>\n",
       "    <tr>\n",
       "      <th>3</th>\n",
       "      <td>16808</td>\n",
       "      <td>Americas</td>\n",
       "      <td>NW America</td>\n",
       "      <td>1</td>\n",
       "      <td>0</td>\n",
       "      <td>1</td>\n",
       "      <td>0</td>\n",
       "      <td>0</td>\n",
       "      <td>Bureaucratic_Code_5</td>\n",
       "      <td>7/27/2013</td>\n",
       "      <td>...</td>\n",
       "      <td>Q1</td>\n",
       "      <td>2018</td>\n",
       "      <td>NaT</td>\n",
       "      <td>14</td>\n",
       "      <td>USD</td>\n",
       "      <td>7421881.5</td>\n",
       "      <td>USD</td>\n",
       "      <td>7421881.5</td>\n",
       "      <td>Closed Lost</td>\n",
       "      <td>Prod_Category_A_None</td>\n",
       "    </tr>\n",
       "    <tr>\n",
       "      <th>4</th>\n",
       "      <td>16805</td>\n",
       "      <td>Americas</td>\n",
       "      <td>NW America</td>\n",
       "      <td>1</td>\n",
       "      <td>0</td>\n",
       "      <td>1</td>\n",
       "      <td>0</td>\n",
       "      <td>0</td>\n",
       "      <td>Bureaucratic_Code_5</td>\n",
       "      <td>7/27/2013</td>\n",
       "      <td>...</td>\n",
       "      <td>Q1</td>\n",
       "      <td>2018</td>\n",
       "      <td>NaT</td>\n",
       "      <td>25</td>\n",
       "      <td>USD</td>\n",
       "      <td>13357192.5</td>\n",
       "      <td>USD</td>\n",
       "      <td>13357192.5</td>\n",
       "      <td>Closed Lost</td>\n",
       "      <td>Prod_Category_A_None</td>\n",
       "    </tr>\n",
       "  </tbody>\n",
       "</table>\n",
       "<p>5 rows × 52 columns</p>\n",
       "</div>"
      ],
      "text/plain": [
       "      ID    Region   Territory  Pricing, Delivery_Terms_Quote_Appr  \\\n",
       "0  27761      EMEA        None                                   1   \n",
       "1  27760      EMEA        None                                   0   \n",
       "2  27446  Americas  NW America                                   0   \n",
       "3  16808  Americas  NW America                                   1   \n",
       "4  16805  Americas  NW America                                   1   \n",
       "\n",
       "   Pricing, Delivery_Terms_Approved  Bureaucratic_Code_0_Approval  \\\n",
       "0                                 1                             1   \n",
       "1                                 0                             0   \n",
       "2                                 0                             0   \n",
       "3                                 0                             1   \n",
       "4                                 0                             1   \n",
       "\n",
       "   Bureaucratic_Code_0_Approved  Submitted_for_Approval    Bureaucratic_Code  \\\n",
       "0                             1                       0  Bureaucratic_Code_4   \n",
       "1                             0                       0  Bureaucratic_Code_4   \n",
       "2                             0                       0  Bureaucratic_Code_4   \n",
       "3                             0                       0  Bureaucratic_Code_5   \n",
       "4                             0                       0  Bureaucratic_Code_5   \n",
       "\n",
       "  Account_Created_Date  ... Delivery_Quarter Delivery_Year  \\\n",
       "0            6/16/2015  ...               Q2          2016   \n",
       "1            6/16/2015  ...               Q1          2016   \n",
       "2            4/21/2015  ...               Q1          2016   \n",
       "3            7/27/2013  ...               Q1          2018   \n",
       "4            7/27/2013  ...               Q1          2018   \n",
       "\n",
       "  Actual_Delivery_Date TRF  Total_Amount_Currency Total_Amount  \\\n",
       "0                  NaT  10                    EUR    5272800.0   \n",
       "1                  NaT   0                    EUR      48230.0   \n",
       "2                  NaT   0                    USD      83865.6   \n",
       "3                  NaT  14                    USD    7421881.5   \n",
       "4                  NaT  25                    USD   13357192.5   \n",
       "\n",
       "  Total_Taxable_Amount_Currency Total_Taxable_Amount        Stage  \\\n",
       "0                           EUR            5272800.0  Closed Lost   \n",
       "1                           EUR              48230.0   Closed Won   \n",
       "2                           USD              83865.6   Closed Won   \n",
       "3                           USD            7421881.5  Closed Lost   \n",
       "4                           USD           13357192.5  Closed Lost   \n",
       "\n",
       "        Prod_Category_A  \n",
       "0  Prod_Category_A_None  \n",
       "1  Prod_Category_A_None  \n",
       "2  Prod_Category_A_None  \n",
       "3  Prod_Category_A_None  \n",
       "4  Prod_Category_A_None  \n",
       "\n",
       "[5 rows x 52 columns]"
      ]
     },
     "execution_count": 2,
     "metadata": {},
     "output_type": "execute_result"
    }
   ],
   "source": [
    "df= pd.read_csv('Entrenamieto_ECI_2020.csv')\n",
    "df.head(5)"
   ]
  },
  {
   "cell_type": "code",
   "execution_count": 13,
   "metadata": {},
   "outputs": [
    {
     "name": "stdout",
     "output_type": "stream",
     "text": [
      "ID\n",
      "Region\n",
      "Territory\n",
      "Pricing, Delivery_Terms_Quote_Appr\n",
      "Pricing, Delivery_Terms_Approved\n",
      "Bureaucratic_Code_0_Approval\n",
      "Bureaucratic_Code_0_Approved\n",
      "Submitted_for_Approval\n",
      "Bureaucratic_Code\n",
      "Account_Created_Date\n",
      "Source \n",
      "Billing_Country\n",
      "Account_Name\n",
      "Opportunity_Name\n",
      "Opportunity_ID\n",
      "Sales_Contract_No\n",
      "Account_Owner\n",
      "Opportunity_Owner\n",
      "Account_Type\n",
      "Opportunity_Type\n",
      "Quote_Type\n",
      "Delivery_Terms\n",
      "Opportunity_Created_Date\n",
      "Brand\n",
      "Product_Type\n",
      "Size\n",
      "Product_Category_B\n",
      "Price\n",
      "Currency\n",
      "Last_Activity\n",
      "Quote_Expiry_Date\n",
      "Last_Modified_Date\n",
      "Last_Modified_By\n",
      "Product_Family\n",
      "Product_Name\n",
      "ASP_Currency\n",
      "ASP\n",
      "ASP_(converted)_Currency\n",
      "ASP_(converted)\n",
      "Planned_Delivery_Start_Date\n",
      "Planned_Delivery_End_Date\n",
      "Month\n",
      "Delivery_Quarter\n",
      "Delivery_Year\n",
      "Actual_Delivery_Date\n",
      "TRF\n",
      "Total_Amount_Currency\n",
      "Total_Amount\n",
      "Total_Taxable_Amount_Currency\n",
      "Total_Taxable_Amount\n",
      "Stage\n",
      "Prod_Category_A\n"
     ]
    }
   ],
   "source": [
    "for column in df.columns:\n",
    "    print (column)"
   ]
  },
  {
   "cell_type": "code",
   "execution_count": 10,
   "metadata": {},
   "outputs": [
    {
     "data": {
      "text/plain": [
       "(16947, 52)"
      ]
     },
     "execution_count": 10,
     "metadata": {},
     "output_type": "execute_result"
    }
   ],
   "source": [
    "df.shape"
   ]
  },
  {
   "cell_type": "code",
   "execution_count": 3,
   "metadata": {},
   "outputs": [
    {
     "data": {
      "text/plain": [
       "ID                                       0\n",
       "Region                                   0\n",
       "Territory                                0\n",
       "Pricing, Delivery_Terms_Quote_Appr       0\n",
       "Pricing, Delivery_Terms_Approved         0\n",
       "Bureaucratic_Code_0_Approval             0\n",
       "Bureaucratic_Code_0_Approved             0\n",
       "Submitted_for_Approval                   0\n",
       "Bureaucratic_Code                        0\n",
       "Account_Created_Date                     0\n",
       "Source                                   0\n",
       "Billing_Country                          0\n",
       "Account_Name                             0\n",
       "Opportunity_Name                         0\n",
       "Opportunity_ID                           0\n",
       "Sales_Contract_No                        0\n",
       "Account_Owner                            0\n",
       "Opportunity_Owner                        0\n",
       "Account_Type                             0\n",
       "Opportunity_Type                         0\n",
       "Quote_Type                               0\n",
       "Delivery_Terms                           0\n",
       "Opportunity_Created_Date                 0\n",
       "Brand                                    0\n",
       "Product_Type                             0\n",
       "Size                                     0\n",
       "Product_Category_B                       0\n",
       "Price                                    0\n",
       "Currency                                 0\n",
       "Last_Activity                            0\n",
       "Quote_Expiry_Date                        0\n",
       "Last_Modified_Date                       0\n",
       "Last_Modified_By                         0\n",
       "Product_Family                           0\n",
       "Product_Name                             0\n",
       "ASP_Currency                             0\n",
       "ASP                                   3209\n",
       "ASP_(converted)_Currency                 0\n",
       "ASP_(converted)                       3209\n",
       "Planned_Delivery_Start_Date              0\n",
       "Planned_Delivery_End_Date                0\n",
       "Month                                    0\n",
       "Delivery_Quarter                         0\n",
       "Delivery_Year                            0\n",
       "Actual_Delivery_Date                     0\n",
       "TRF                                      0\n",
       "Total_Amount_Currency                    0\n",
       "Total_Amount                            59\n",
       "Total_Taxable_Amount_Currency            0\n",
       "Total_Taxable_Amount                     0\n",
       "Stage                                    0\n",
       "Prod_Category_A                          0\n",
       "dtype: int64"
      ]
     },
     "execution_count": 3,
     "metadata": {},
     "output_type": "execute_result"
    }
   ],
   "source": [
    "df.isna().sum()"
   ]
  },
  {
   "cell_type": "code",
   "execution_count": 4,
   "metadata": {},
   "outputs": [
    {
     "data": {
      "text/plain": [
       "ID                                       0\n",
       "Region                                   0\n",
       "Territory                                0\n",
       "Pricing, Delivery_Terms_Quote_Appr       0\n",
       "Pricing, Delivery_Terms_Approved         0\n",
       "Bureaucratic_Code_0_Approval             0\n",
       "Bureaucratic_Code_0_Approved             0\n",
       "Submitted_for_Approval                   0\n",
       "Bureaucratic_Code                        0\n",
       "Account_Created_Date                     0\n",
       "Source                                   0\n",
       "Billing_Country                          0\n",
       "Account_Name                             0\n",
       "Opportunity_Name                         0\n",
       "Opportunity_ID                           0\n",
       "Sales_Contract_No                        0\n",
       "Account_Owner                            0\n",
       "Opportunity_Owner                        0\n",
       "Account_Type                             0\n",
       "Opportunity_Type                         0\n",
       "Quote_Type                               0\n",
       "Delivery_Terms                           0\n",
       "Opportunity_Created_Date                 0\n",
       "Brand                                    0\n",
       "Product_Type                             0\n",
       "Size                                     0\n",
       "Product_Category_B                       0\n",
       "Price                                    0\n",
       "Currency                                 0\n",
       "Last_Activity                            0\n",
       "Quote_Expiry_Date                        0\n",
       "Last_Modified_Date                       0\n",
       "Last_Modified_By                         0\n",
       "Product_Family                           0\n",
       "Product_Name                             0\n",
       "ASP_Currency                             0\n",
       "ASP                                   3209\n",
       "ASP_(converted)_Currency                 0\n",
       "ASP_(converted)                       3209\n",
       "Planned_Delivery_Start_Date              0\n",
       "Planned_Delivery_End_Date                0\n",
       "Month                                    0\n",
       "Delivery_Quarter                         0\n",
       "Delivery_Year                            0\n",
       "Actual_Delivery_Date                     0\n",
       "TRF                                      0\n",
       "Total_Amount_Currency                    0\n",
       "Total_Amount                            59\n",
       "Total_Taxable_Amount_Currency            0\n",
       "Total_Taxable_Amount                     0\n",
       "Stage                                    0\n",
       "Prod_Category_A                          0\n",
       "dtype: int64"
      ]
     },
     "execution_count": 4,
     "metadata": {},
     "output_type": "execute_result"
    }
   ],
   "source": [
    "df.isnull().sum()"
   ]
  },
  {
   "cell_type": "code",
   "execution_count": 16,
   "metadata": {},
   "outputs": [
    {
     "data": {
      "text/plain": [
       "ID                                      int64\n",
       "Region                                 object\n",
       "Territory                              object\n",
       "Pricing, Delivery_Terms_Quote_Appr      int64\n",
       "Pricing, Delivery_Terms_Approved        int64\n",
       "Bureaucratic_Code_0_Approval            int64\n",
       "Bureaucratic_Code_0_Approved            int64\n",
       "Submitted_for_Approval                  int64\n",
       "Bureaucratic_Code                      object\n",
       "Account_Created_Date                   object\n",
       "Source                                 object\n",
       "Billing_Country                        object\n",
       "Account_Name                           object\n",
       "Opportunity_Name                       object\n",
       "Opportunity_ID                          int64\n",
       "Sales_Contract_No                      object\n",
       "Account_Owner                          object\n",
       "Opportunity_Owner                      object\n",
       "Account_Type                           object\n",
       "Opportunity_Type                       object\n",
       "Quote_Type                             object\n",
       "Delivery_Terms                         object\n",
       "Opportunity_Created_Date               object\n",
       "Brand                                  object\n",
       "Product_Type                           object\n",
       "Size                                   object\n",
       "Product_Category_B                     object\n",
       "Price                                  object\n",
       "Currency                               object\n",
       "Last_Activity                          object\n",
       "Quote_Expiry_Date                      object\n",
       "Last_Modified_Date                     object\n",
       "Last_Modified_By                       object\n",
       "Product_Family                         object\n",
       "Product_Name                           object\n",
       "ASP_Currency                           object\n",
       "ASP                                   float64\n",
       "ASP_(converted)_Currency               object\n",
       "ASP_(converted)                       float64\n",
       "Planned_Delivery_Start_Date            object\n",
       "Planned_Delivery_End_Date              object\n",
       "Month                                  object\n",
       "Delivery_Quarter                       object\n",
       "Delivery_Year                           int64\n",
       "Actual_Delivery_Date                   object\n",
       "TRF                                     int64\n",
       "Total_Amount_Currency                  object\n",
       "Total_Amount                          float64\n",
       "Total_Taxable_Amount_Currency          object\n",
       "Total_Taxable_Amount                  float64\n",
       "Stage                                  object\n",
       "Prod_Category_A                        object\n",
       "dtype: object"
      ]
     },
     "execution_count": 16,
     "metadata": {},
     "output_type": "execute_result"
    }
   ],
   "source": [
    "df.dtypes"
   ]
  },
  {
   "cell_type": "code",
   "execution_count": 20,
   "metadata": {},
   "outputs": [
    {
     "data": {
      "text/plain": [
       "Closed Won       9533\n",
       "Closed Lost      7350\n",
       "Proposal           35\n",
       "Negotiation        18\n",
       "Qualification      11\n",
       "Name: Stage, dtype: int64"
      ]
     },
     "execution_count": 20,
     "metadata": {},
     "output_type": "execute_result"
    }
   ],
   "source": [
    "df['Stage'].value_counts()"
   ]
  },
  {
   "cell_type": "code",
   "execution_count": 21,
   "metadata": {},
   "outputs": [
    {
     "data": {
      "text/plain": [
       "<matplotlib.axes._subplots.AxesSubplot at 0x29a15151108>"
      ]
     },
     "execution_count": 21,
     "metadata": {},
     "output_type": "execute_result"
    },
    {
     "data": {
      "image/png": "[encoded data removed]",
      "text/plain": [
       "<Figure size 432x288 with 1 Axes>"
      ]
     },
     "metadata": {
      "needs_background": "light"
     },
     "output_type": "display_data"
    }
   ],
   "source": [
    "df['Stage'].value_counts().plot(kind='bar', colormap='Pastel1')"
   ]
  },
  {
   "cell_type": "code",
   "execution_count": 23,
   "metadata": {},
   "outputs": [
    {
     "data": {
      "text/plain": [
       "count    16947.000000\n",
       "mean         2.338172\n",
       "std         12.169339\n",
       "min          0.000000\n",
       "25%          0.000000\n",
       "50%          0.000000\n",
       "75%          1.000000\n",
       "max        500.000000\n",
       "Name: TRF, dtype: float64"
      ]
     },
     "execution_count": 23,
     "metadata": {},
     "output_type": "execute_result"
    }
   ],
   "source": [
    "df['TRF'].describe()"
   ]
  },
  {
   "cell_type": "code",
   "execution_count": 25,
   "metadata": {},
   "outputs": [
    {
     "data": {
      "text/plain": [
       "Opportunity_Type_1     6819\n",
       "Opportunity_Type_7     5763\n",
       "Opportunity_Type_19    1900\n",
       "Opportunity_Type_8     1458\n",
       "Opportunity_Type_12     279\n",
       "Opportunity_Type_3      275\n",
       "Opportunity_Type_20     175\n",
       "Opportunity_Type_2       70\n",
       "Opportunity_Type_4       51\n",
       "Opportunity_Type_10      34\n",
       "Opportunity_Type_9       23\n",
       "Opportunity_Type_14      15\n",
       "Opportunity_Type_5       14\n",
       "Opportunity_Type_18      11\n",
       "Opportunity_Type_22      10\n",
       "Opportunity_Type_15       9\n",
       "Opportunity_Type_17       8\n",
       "Opportunity_Type_0        8\n",
       "Opportunity_Type_21       6\n",
       "Opportunity_Type_23       5\n",
       "Opportunity_Type_16       4\n",
       "Opportunity_Type_13       4\n",
       "Opportunity_Type_11       3\n",
       "Opportunity_Type_6        2\n",
       "Opportunity_Type_24       1\n",
       "Name: Opportunity_Type, dtype: int64"
      ]
     },
     "execution_count": 25,
     "metadata": {},
     "output_type": "execute_result"
    }
   ],
   "source": [
    "df['Opportunity_Type'].value_counts() "
   ]
  },
  {
   "cell_type": "code",
   "execution_count": 26,
   "metadata": {},
   "outputs": [
    {
     "data": {
      "text/plain": [
       "Person_Name_50    3781\n",
       "Person_Name_8     1422\n",
       "Person_Name_13    1254\n",
       "Person_Name_18     982\n",
       "Person_Name_43     838\n",
       "Person_Name_3      832\n",
       "Person_Name_4      687\n",
       "Person_Name_32     686\n",
       "Person_Name_19     615\n",
       "Person_Name_64     516\n",
       "Person_Name_16     446\n",
       "Person_Name_23     422\n",
       "Person_Name_46     329\n",
       "Person_Name_65     322\n",
       "Person_Name_49     286\n",
       "Person_Name_48     256\n",
       "Person_Name_38     254\n",
       "Person_Name_66     243\n",
       "Person_Name_44     240\n",
       "Person_Name_39     211\n",
       "Person_Name_60     207\n",
       "Person_Name_62     174\n",
       "Person_Name_52     173\n",
       "Person_Name_54     171\n",
       "Person_Name_5      169\n",
       "Person_Name_59     134\n",
       "Person_Name_45     128\n",
       "Person_Name_2      118\n",
       "Person_Name_41     113\n",
       "Person_Name_51     111\n",
       "Person_Name_55      91\n",
       "Person_Name_33      87\n",
       "Person_Name_14      82\n",
       "Person_Name_11      77\n",
       "Person_Name_30      69\n",
       "Person_Name_63      67\n",
       "Person_Name_40      50\n",
       "Person_Name_25      49\n",
       "Person_Name_20      49\n",
       "Person_Name_22      43\n",
       "Person_Name_26      33\n",
       "Person_Name_12      23\n",
       "Person_Name_37      21\n",
       "Person_Name_42      19\n",
       "Person_Name_34      14\n",
       "Person_Name_29      13\n",
       "Person_Name_61      13\n",
       "Person_Name_58       8\n",
       "Person_Name_36       8\n",
       "Person_Name_56       6\n",
       "Person_Name_10       2\n",
       "Person_Name_35       2\n",
       "Person_Name_0        1\n",
       "Name: Opportunity_Owner, dtype: int64"
      ]
     },
     "execution_count": 26,
     "metadata": {},
     "output_type": "execute_result"
    }
   ],
   "source": [
    "df['Opportunity_Owner'].value_counts() "
   ]
  },
  {
   "cell_type": "code",
   "execution_count": 31,
   "metadata": {},
   "outputs": [
    {
     "data": {
      "text/plain": [
       "<matplotlib.axes._subplots.AxesSubplot at 0x29a1749e948>"
      ]
     },
     "execution_count": 31,
     "metadata": {},
     "output_type": "execute_result"
    },
    {
     "data": {
      "image/png": "[encoded data removed]",
      "text/plain": [
       "<Figure size 432x288 with 1 Axes>"
      ]
     },
     "metadata": {
      "needs_background": "light"
     },
     "output_type": "display_data"
    }
   ],
   "source": [
    "df['Billing_Country'].value_counts().nlargest(10).plot(kind='bar', colormap='Pastel1')"
   ]
  },
  {
   "cell_type": "code",
   "execution_count": null,
   "metadata": {},
   "outputs": [],
   "source": []
  }
 ],
 "metadata": {
  "kernelspec": {
   "display_name": "Python 3",
   "language": "python",
   "name": "python3"
  },
  "language_info": {
   "codemirror_mode": {
    "name": "ipython",
    "version": 3
   },
   "file_extension": ".py",
   "mimetype": "text/x-python",
   "name": "python",
   "nbconvert_exporter": "python",
   "pygments_lexer": "ipython3",
   "version": "3.7.6"
  }
 },
 "nbformat": 4,
 "nbformat_minor": 4
}
